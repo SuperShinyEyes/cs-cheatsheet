{
 "cells": [
  {
   "cell_type": "markdown",
   "metadata": {},
   "source": [
    "# Python cheatsheet"
   ]
  },
  {
   "cell_type": "markdown",
   "metadata": {},
   "source": [
    "## Tuples\n",
    "### Tuple unpacking"
   ]
  },
  {
   "cell_type": "code",
   "execution_count": 2,
   "metadata": {},
   "outputs": [],
   "source": [
    "def divmod(x,y):\n",
    "    return x // y, x % y\n",
    "\n",
    "args = (20,8)\n",
    "divmod(20, 8) == divmod(*args)"
   ]
  },
  {
   "cell_type": "markdown",
   "metadata": {},
   "source": [
    "Using ``*`` to grab excess items"
   ]
  },
  {
   "cell_type": "code",
   "execution_count": 8,
   "metadata": {},
   "outputs": [
    {
     "data": {
      "text/plain": [
       "(0, 1, [2, 3, 4])"
      ]
     },
     "execution_count": 8,
     "metadata": {},
     "output_type": "execute_result"
    }
   ],
   "source": [
    "a, b, *rest = range(5)\n",
    "a, b, rest"
   ]
  },
  {
   "cell_type": "code",
   "execution_count": 9,
   "metadata": {},
   "outputs": [
    {
     "data": {
      "text/plain": [
       "(0, 1, [2])"
      ]
     },
     "execution_count": 9,
     "metadata": {},
     "output_type": "execute_result"
    }
   ],
   "source": [
    "a, b, *rest = range(3)\n",
    "a, b, rest"
   ]
  },
  {
   "cell_type": "code",
   "execution_count": 10,
   "metadata": {},
   "outputs": [
    {
     "data": {
      "text/plain": [
       "(0, 1, [])"
      ]
     },
     "execution_count": 10,
     "metadata": {},
     "output_type": "execute_result"
    }
   ],
   "source": [
    "a, b, *rest = range(2)\n",
    "a, b, rest"
   ]
  },
  {
   "cell_type": "markdown",
   "metadata": {},
   "source": [
    "``*`` prefix can appear in any position"
   ]
  },
  {
   "cell_type": "code",
   "execution_count": 12,
   "metadata": {},
   "outputs": [
    {
     "data": {
      "text/plain": [
       "(3, 4, [0, 1, 2])"
      ]
     },
     "execution_count": 12,
     "metadata": {},
     "output_type": "execute_result"
    }
   ],
   "source": [
    "*head, a, b = range(5)\n",
    "a, b, head"
   ]
  },
  {
   "cell_type": "markdown",
   "metadata": {},
   "source": [
    "### Nested Tuple unpacking"
   ]
  },
  {
   "cell_type": "code",
   "execution_count": 13,
   "metadata": {},
   "outputs": [],
   "source": [
    "metro_areas = [ \n",
    "    ('Tokyo', 'JP', 36.933, (35.689722, 139.691667)),\n",
    "    (' Delhi NCR', 'IN', 21.935, (28.613889, 77.208889)),\n",
    "    ('Mexico City', 'MX', 20.142, (19.433333, -99.133333)),\n",
    "    ('New York-Newark', 'US', 20.104, (40.808611, -74.020386)),\n",
    "    ('Sao Paulo', 'BR', 19.649, (-23.547778, -46.635833)), \n",
    "]"
   ]
  },
  {
   "cell_type": "code",
   "execution_count": 16,
   "metadata": {},
   "outputs": [
    {
     "name": "stdout",
     "output_type": "stream",
     "text": [
      "                |   lat.    |   long.  \n",
      "Mexico City     |   19.4333 |  -99.1333\n",
      "New York-Newark |   40.8086 |  -74.0204\n",
      "Sao Paulo       |  -23.5478 |  -46.6358\n"
     ]
    }
   ],
   "source": [
    "print('{:15} | {:^9} | {:^9}'.format('', 'lat.', 'long.'))\n",
    "fmt = '{:15} | {:9.4f} | {:9.4f}'\n",
    "for name, cc, pop, (lat, long) in metro_areas:\n",
    "    if long <= 0:\n",
    "        print(fmt.format(name, lat, long))"
   ]
  },
  {
   "cell_type": "markdown",
   "metadata": {},
   "source": [
    "### Named Tuples"
   ]
  },
  {
   "cell_type": "code",
   "execution_count": 18,
   "metadata": {},
   "outputs": [],
   "source": [
    "from collections import namedtuple"
   ]
  },
  {
   "cell_type": "code",
   "execution_count": 19,
   "metadata": {},
   "outputs": [],
   "source": [
    "City = namedtuple('City', 'name country population coordinates')"
   ]
  },
  {
   "cell_type": "code",
   "execution_count": 20,
   "metadata": {},
   "outputs": [],
   "source": [
    "tokyo = City('Tokyo', 'JP', 36.933, (35.689722, 133.5846))"
   ]
  },
  {
   "cell_type": "code",
   "execution_count": 21,
   "metadata": {},
   "outputs": [
    {
     "data": {
      "text/plain": [
       "City(name='Tokyo', country='JP', population=36.933, coordinates=(35.689722, 133.5846))"
      ]
     },
     "execution_count": 21,
     "metadata": {},
     "output_type": "execute_result"
    }
   ],
   "source": [
    "tokyo"
   ]
  },
  {
   "cell_type": "code",
   "execution_count": 23,
   "metadata": {},
   "outputs": [
    {
     "data": {
      "text/plain": [
       "'JP'"
      ]
     },
     "execution_count": 23,
     "metadata": {},
     "output_type": "execute_result"
    }
   ],
   "source": [
    "tokyo.country"
   ]
  },
  {
   "cell_type": "code",
   "execution_count": 24,
   "metadata": {},
   "outputs": [
    {
     "data": {
      "text/plain": [
       "'JP'"
      ]
     },
     "execution_count": 24,
     "metadata": {},
     "output_type": "execute_result"
    }
   ],
   "source": [
    "tokyo[1]"
   ]
  },
  {
   "cell_type": "code",
   "execution_count": 25,
   "metadata": {},
   "outputs": [
    {
     "data": {
      "text/plain": [
       "('name', 'country', 'population', 'coordinates')"
      ]
     },
     "execution_count": 25,
     "metadata": {},
     "output_type": "execute_result"
    }
   ],
   "source": [
    "City._fields"
   ]
  },
  {
   "cell_type": "code",
   "execution_count": 26,
   "metadata": {},
   "outputs": [],
   "source": [
    "LatLong = namedtuple('LatLong', 'lat long')"
   ]
  },
  {
   "cell_type": "code",
   "execution_count": 28,
   "metadata": {},
   "outputs": [],
   "source": [
    "delhi_data = ('Delhi NCR', 'IN', 21.935, LatLong(28.354, 77.2))"
   ]
  },
  {
   "cell_type": "code",
   "execution_count": 29,
   "metadata": {},
   "outputs": [
    {
     "data": {
      "text/plain": [
       "City(name='Delhi NCR', country='IN', population=21.935, coordinates=LatLong(lat=28.354, long=77.2))"
      ]
     },
     "execution_count": 29,
     "metadata": {},
     "output_type": "execute_result"
    }
   ],
   "source": [
    "delhi = City._make(delhi_data);delhi"
   ]
  },
  {
   "cell_type": "code",
   "execution_count": 30,
   "metadata": {},
   "outputs": [
    {
     "data": {
      "text/plain": [
       "OrderedDict([('name', 'Delhi NCR'),\n",
       "             ('country', 'IN'),\n",
       "             ('population', 21.935),\n",
       "             ('coordinates', LatLong(lat=28.354, long=77.2))])"
      ]
     },
     "execution_count": 30,
     "metadata": {},
     "output_type": "execute_result"
    }
   ],
   "source": [
    "delhi._asdict()"
   ]
  },
  {
   "cell_type": "code",
   "execution_count": 32,
   "metadata": {},
   "outputs": [
    {
     "name": "stdout",
     "output_type": "stream",
     "text": [
      "name: Delhi NCR\n",
      "country: IN\n",
      "population: 21.935\n",
      "coordinates: LatLong(lat=28.354, long=77.2)\n"
     ]
    }
   ],
   "source": [
    "for k, v in delhi._asdict().items():\n",
    "    print(k + \":\", v)"
   ]
  },
  {
   "cell_type": "markdown",
   "metadata": {},
   "source": [
    "## Slicing"
   ]
  },
  {
   "cell_type": "code",
   "execution_count": 33,
   "metadata": {},
   "outputs": [
    {
     "data": {
      "text/plain": [
       "'bye'"
      ]
     },
     "execution_count": 33,
     "metadata": {},
     "output_type": "execute_result"
    }
   ],
   "source": [
    "s = 'bicycle'\n",
    "s[::3]"
   ]
  },
  {
   "cell_type": "code",
   "execution_count": 34,
   "metadata": {},
   "outputs": [
    {
     "data": {
      "text/plain": [
       "'elcycib'"
      ]
     },
     "execution_count": 34,
     "metadata": {},
     "output_type": "execute_result"
    }
   ],
   "source": [
    "s[::-1]"
   ]
  },
  {
   "cell_type": "code",
   "execution_count": 35,
   "metadata": {},
   "outputs": [
    {
     "data": {
      "text/plain": [
       "'eyb'"
      ]
     },
     "execution_count": 35,
     "metadata": {},
     "output_type": "execute_result"
    }
   ],
   "source": [
    "s[::-3]"
   ]
  },
  {
   "cell_type": "code",
   "execution_count": 38,
   "metadata": {},
   "outputs": [
    {
     "data": {
      "text/plain": [
       "'bi'"
      ]
     },
     "execution_count": 38,
     "metadata": {},
     "output_type": "execute_result"
    }
   ],
   "source": [
    "# You can name a slice\n",
    "first_two = slice(0,2)\n",
    "s[first_two]"
   ]
  },
  {
   "cell_type": "code",
   "execution_count": 42,
   "metadata": {},
   "outputs": [
    {
     "data": {
      "text/plain": [
       "[0, 1, 20, 30, 5, 6, 7, 8, 9]"
      ]
     },
     "execution_count": 42,
     "metadata": {},
     "output_type": "execute_result"
    }
   ],
   "source": [
    "# You can assign to slices\n",
    "numbers = list(range(10))\n",
    "numbers[2:5] = [20, 30]; numbers"
   ]
  },
  {
   "cell_type": "code",
   "execution_count": 43,
   "metadata": {},
   "outputs": [
    {
     "data": {
      "text/plain": [
       "[0, 1, 20, 30, 5, 8, 9]"
      ]
     },
     "execution_count": 43,
     "metadata": {},
     "output_type": "execute_result"
    }
   ],
   "source": [
    "del numbers[5:7]; numbers"
   ]
  },
  {
   "cell_type": "code",
   "execution_count": 44,
   "metadata": {},
   "outputs": [
    {
     "data": {
      "text/plain": [
       "[0, 1, 20, 11, 5, 22, 9]"
      ]
     },
     "execution_count": 44,
     "metadata": {},
     "output_type": "execute_result"
    }
   ],
   "source": [
    "numbers[3::2] = [11, 22]; numbers"
   ]
  },
  {
   "cell_type": "code",
   "execution_count": 46,
   "metadata": {},
   "outputs": [
    {
     "data": {
      "text/plain": [
       "[0, 1, 100]"
      ]
     },
     "execution_count": 46,
     "metadata": {},
     "output_type": "execute_result"
    }
   ],
   "source": [
    "numbers[2:5] = [100]; numbers"
   ]
  },
  {
   "cell_type": "markdown",
   "metadata": {},
   "source": [
    "## Python bytecode disassembly tool – ``dis``"
   ]
  },
  {
   "cell_type": "code",
   "execution_count": 50,
   "metadata": {},
   "outputs": [
    {
     "name": "stdout",
     "output_type": "stream",
     "text": [
      "  1           0 LOAD_NAME                0 (s)\n",
      "              2 LOAD_NAME                1 (a)\n",
      "              4 DUP_TOP_TWO\n",
      "              6 BINARY_SUBSCR\n",
      "              8 LOAD_NAME                2 (b)\n",
      "             10 INPLACE_ADD\n",
      "             12 ROT_THREE\n",
      "             14 STORE_SUBSCR\n",
      "             16 LOAD_CONST               0 (None)\n",
      "             18 RETURN_VALUE\n"
     ]
    }
   ],
   "source": [
    "import dis\n",
    "\n",
    "dis.dis('s[a] += b')"
   ]
  },
  {
   "cell_type": "markdown",
   "metadata": {},
   "source": [
    "## Key is brilliant"
   ]
  },
  {
   "cell_type": "code",
   "execution_count": 51,
   "metadata": {},
   "outputs": [
    {
     "data": {
      "text/plain": [
       "[1, '1', 5, 14, 19, '23', 28, '28']"
      ]
     },
     "execution_count": 51,
     "metadata": {},
     "output_type": "execute_result"
    }
   ],
   "source": [
    "l = [28,14,'28',5,1,'1','23',19]\n",
    "sorted(l, key=int)"
   ]
  },
  {
   "cell_type": "code",
   "execution_count": 52,
   "metadata": {},
   "outputs": [
    {
     "data": {
      "text/plain": [
       "[1, '1', 14, 19, '23', 28, '28', 5]"
      ]
     },
     "execution_count": 52,
     "metadata": {},
     "output_type": "execute_result"
    }
   ],
   "source": [
    "sorted(l, key=str)"
   ]
  },
  {
   "cell_type": "markdown",
   "metadata": {},
   "source": [
    "## Functions as first-class objects"
   ]
  },
  {
   "cell_type": "code",
   "execution_count": 54,
   "metadata": {},
   "outputs": [
    {
     "data": {
      "text/plain": [
       "3628800"
      ]
     },
     "execution_count": 54,
     "metadata": {},
     "output_type": "execute_result"
    }
   ],
   "source": [
    "def factorial(n):\n",
    "    '''returns n!'''\n",
    "    return n if n < 2 else factorial(n-1) * n\n",
    "\n",
    "factorial(10)"
   ]
  },
  {
   "cell_type": "code",
   "execution_count": 55,
   "metadata": {},
   "outputs": [
    {
     "name": "stdout",
     "output_type": "stream",
     "text": [
      "Help on function factorial in module __main__:\n",
      "\n",
      "factorial(n)\n",
      "    returns n!\n",
      "\n"
     ]
    }
   ],
   "source": [
    "help(factorial)"
   ]
  },
  {
   "cell_type": "code",
   "execution_count": 56,
   "metadata": {},
   "outputs": [
    {
     "data": {
      "text/plain": [
       "[0, 1, 2, 6, 24, 120, 720, 5040, 40320, 362880]"
      ]
     },
     "execution_count": 56,
     "metadata": {},
     "output_type": "execute_result"
    }
   ],
   "source": [
    "[factorial(i) for i in range(10)]"
   ]
  },
  {
   "cell_type": "code",
   "execution_count": 61,
   "metadata": {},
   "outputs": [
    {
     "data": {
      "text/plain": [
       "[0, 1, 2, 6, 24, 120, 720, 5040, 40320, 362880]"
      ]
     },
     "execution_count": 61,
     "metadata": {},
     "output_type": "execute_result"
    }
   ],
   "source": [
    "list(map(factorial, range(10)))"
   ]
  },
  {
   "cell_type": "markdown",
   "metadata": {},
   "source": [
    "### Higher-order functions"
   ]
  },
  {
   "cell_type": "code",
   "execution_count": 57,
   "metadata": {},
   "outputs": [
    {
     "data": {
      "text/plain": [
       "'gnuoyes'"
      ]
     },
     "execution_count": 57,
     "metadata": {},
     "output_type": "execute_result"
    }
   ],
   "source": [
    "def reverse(word):\n",
    "    return word[::-1]\n",
    "\n",
    "reverse('seyoung')"
   ]
  },
  {
   "cell_type": "code",
   "execution_count": 59,
   "metadata": {},
   "outputs": [
    {
     "data": {
      "text/plain": [
       "['mustikka', 'omena', 'banaani', 'appelsiini']"
      ]
     },
     "execution_count": 59,
     "metadata": {},
     "output_type": "execute_result"
    }
   ],
   "source": [
    "fruits = 'banaani mustikka appelsiini omena'.split()\n",
    "sorted(fruits, key=reverse)"
   ]
  },
  {
   "cell_type": "code",
   "execution_count": 62,
   "metadata": {},
   "outputs": [
    {
     "data": {
      "text/plain": [
       "['mustikka', 'omena', 'banaani', 'appelsiini']"
      ]
     },
     "execution_count": 62,
     "metadata": {},
     "output_type": "execute_result"
    }
   ],
   "source": [
    "sorted(fruits, key=lambda word: word[::-1])"
   ]
  },
  {
   "cell_type": "markdown",
   "metadata": {},
   "source": [
    "### User-defined callable types"
   ]
  },
  {
   "cell_type": "code",
   "execution_count": 65,
   "metadata": {},
   "outputs": [],
   "source": [
    "import random\n",
    "\n",
    "class BingoCage:\n",
    "    \n",
    "    def __init__(self, items):\n",
    "        self._items = list(items)\n",
    "        random.shuffle(self._items)\n",
    "        \n",
    "    def pick(self):\n",
    "        try:\n",
    "            return self._items.pop()\n",
    "        except IndexError:\n",
    "            raise LookupError('Pick from empty BingoCage')\n",
    "            \n",
    "    def __call__(self):\n",
    "        return self.pick()"
   ]
  },
  {
   "cell_type": "code",
   "execution_count": 69,
   "metadata": {},
   "outputs": [
    {
     "data": {
      "text/plain": [
       "(17, 7)"
      ]
     },
     "execution_count": 69,
     "metadata": {},
     "output_type": "execute_result"
    }
   ],
   "source": [
    "bingo = BingoCage(range(30))\n",
    "bingo(), bingo.pick()"
   ]
  },
  {
   "cell_type": "markdown",
   "metadata": {},
   "source": [
    "## Decorators"
   ]
  },
  {
   "cell_type": "code",
   "execution_count": 71,
   "metadata": {},
   "outputs": [
    {
     "name": "stdout",
     "output_type": "stream",
     "text": [
      "running inner()\n",
      "running target()\n"
     ]
    }
   ],
   "source": [
    "def deco(func):\n",
    "    def inner():\n",
    "        print('running inner()')\n",
    "        func()\n",
    "    return inner\n",
    "\n",
    "@deco\n",
    "def target():\n",
    "    print('running target()')\n",
    "    \n",
    "target()"
   ]
  },
  {
   "cell_type": "markdown",
   "metadata": {},
   "source": [
    "Decorator is just a syntatic sugar as passing another function to a function:"
   ]
  },
  {
   "cell_type": "code",
   "execution_count": 74,
   "metadata": {},
   "outputs": [
    {
     "name": "stdout",
     "output_type": "stream",
     "text": [
      "running inner()\n",
      "running target()\n"
     ]
    }
   ],
   "source": [
    "def inner(func):\n",
    "    print('running inner()')\n",
    "    func()\n",
    "\n",
    "def target():\n",
    "    print('running target()')\n",
    "\n",
    "\n",
    "inner(target)"
   ]
  },
  {
   "cell_type": "markdown",
   "metadata": {},
   "source": [
    "### Decorator – practical usecase"
   ]
  },
  {
   "cell_type": "code",
   "execution_count": 76,
   "metadata": {},
   "outputs": [],
   "source": [
    "promos = []\n",
    "\n",
    "def promotion(promo_func):\n",
    "    promos.append(promo_func)\n",
    "    return promo_func\n",
    "\n",
    "'''\n",
    "Decorators are run on import time. Thus `promos` will be filled up \n",
    "as soon as the module is imported.\n",
    "'''\n",
    "\n",
    "@promotion\n",
    "def fidelity(order):\n",
    "    '''\n",
    "    5% discount for customers with 1000+ fidelity points\n",
    "    '''\n",
    "    return order.total * .05 if order.customer.fidelity >= 1000 else 0\n",
    "\n",
    "@promotion\n",
    "def bulk_item(order):\n",
    "    '''10% discount for each LineItem with 20 or mor units'''\n",
    "    discount = 0\n",
    "    for item in order.cart:\n",
    "        if item.quantity >= 20:\n",
    "            discount += item.total() * .1\n",
    "    return discount\n",
    "\n",
    "\n",
    "def best_promo(order):\n",
    "    '''Select best discount available'''\n",
    "    return max(promo(order) for promo in promos)"
   ]
  },
  {
   "cell_type": "markdown",
   "metadata": {},
   "source": [
    "### Closure\n",
    "\n",
    "A closure is a function within a function which accesses nonglobal variable that is declared outside its body\n",
    "\n",
    "![closure_variable_scope](notebook-images/python/closure_variable_scope.png)"
   ]
  },
  {
   "cell_type": "code",
   "execution_count": 77,
   "metadata": {},
   "outputs": [
    {
     "data": {
      "text/plain": [
       "(10.0, 10.5, 11.0)"
      ]
     },
     "execution_count": 77,
     "metadata": {},
     "output_type": "execute_result"
    }
   ],
   "source": [
    "def make_averager():\n",
    "    series = []\n",
    "    \n",
    "    def avg(new_value):\n",
    "        series.append(new_value)\n",
    "        return sum(series) / len(series)\n",
    "    \n",
    "    return avg\n",
    "\n",
    "avg = make_averager()\n",
    "avg(10), avg(11), avg(12)"
   ]
  },
  {
   "cell_type": "code",
   "execution_count": 78,
   "metadata": {},
   "outputs": [
    {
     "data": {
      "text/plain": [
       "('new_value',)"
      ]
     },
     "execution_count": 78,
     "metadata": {},
     "output_type": "execute_result"
    }
   ],
   "source": [
    "avg.__code__.co_varnames"
   ]
  },
  {
   "cell_type": "code",
   "execution_count": 79,
   "metadata": {},
   "outputs": [
    {
     "data": {
      "text/plain": [
       "('series',)"
      ]
     },
     "execution_count": 79,
     "metadata": {},
     "output_type": "execute_result"
    }
   ],
   "source": [
    "avg.__code__.co_freevars"
   ]
  },
  {
   "cell_type": "code",
   "execution_count": 80,
   "metadata": {},
   "outputs": [
    {
     "data": {
      "text/plain": [
       "(<cell at 0x1118e90a8: list object at 0x112697d88>,)"
      ]
     },
     "execution_count": 80,
     "metadata": {},
     "output_type": "execute_result"
    }
   ],
   "source": [
    "avg.__closure__"
   ]
  },
  {
   "cell_type": "code",
   "execution_count": 82,
   "metadata": {},
   "outputs": [
    {
     "data": {
      "text/plain": [
       "[10, 11, 12]"
      ]
     },
     "execution_count": 82,
     "metadata": {},
     "output_type": "execute_result"
    }
   ],
   "source": [
    "avg.__closure__[0].cell_contents"
   ]
  },
  {
   "cell_type": "markdown",
   "metadata": {},
   "source": [
    "#### Nonlocal declaration"
   ]
  },
  {
   "cell_type": "code",
   "execution_count": 83,
   "metadata": {},
   "outputs": [],
   "source": [
    "def make_averager():\n",
    "    count = 0\n",
    "    total = 0\n",
    "    \n",
    "    def avg(new_value):\n",
    "        nonlocal count, total\n",
    "        count += 1\n",
    "        total += new_value\n",
    "        return total / count\n",
    "    \n",
    "    return avg"
   ]
  },
  {
   "cell_type": "markdown",
   "metadata": {},
   "source": [
    "### Runtime measure decorator"
   ]
  },
  {
   "cell_type": "code",
   "execution_count": 99,
   "metadata": {},
   "outputs": [],
   "source": [
    "import time\n",
    "import functools\n",
    "\n",
    "def clock(func):\n",
    "    @functools.wraps(func)\n",
    "    def clocked(*args, **kwargs):\n",
    "        t0 = time.perf_counter()\n",
    "        result = func(*args, **kwargs)\n",
    "        elapsed = time.perf_counter() - t0\n",
    "        name = func.__name__\n",
    "        \n",
    "        arg_list = []\n",
    "        if args:\n",
    "            arg_list.append(', '.join(repr(arg) for arg in args))\n",
    "        if kwargs:\n",
    "            pairs = ['%s=%r' % (k, w) for k, w in sorted(kwargs.items())]\n",
    "            arg_list.append(', '.join(pairs))\n",
    "        arg_str = ', '.join(arg_list)\n",
    "        print('[{:.8f}s] {:s}({:s}) -> {}'.format(\n",
    "            elapsed,\n",
    "            name,\n",
    "            arg_str,\n",
    "            result\n",
    "        ))\n",
    "        return result\n",
    "    return clocked"
   ]
  },
  {
   "cell_type": "code",
   "execution_count": 100,
   "metadata": {},
   "outputs": [
    {
     "name": "stdout",
     "output_type": "stream",
     "text": [
      "[1.00518278s] snooze(1) -> None\n"
     ]
    }
   ],
   "source": [
    "@clock\n",
    "def snooze(seconds):\n",
    "    time.sleep(seconds)\n",
    "    \n",
    "@clock\n",
    "def factorial(n):\n",
    "    '''returns n!'''\n",
    "    return n if n < 2 else factorial(n-1) * n\n",
    "\n",
    "snooze(1)"
   ]
  },
  {
   "cell_type": "code",
   "execution_count": 101,
   "metadata": {},
   "outputs": [
    {
     "name": "stdout",
     "output_type": "stream",
     "text": [
      "[0.00000062s] factorial(1) -> 1\n",
      "[0.00006170s] factorial(2) -> 2\n",
      "[0.00016104s] factorial(3) -> 6\n",
      "[0.00020322s] factorial(4) -> 24\n",
      "[0.00024490s] factorial(5) -> 120\n",
      "[0.00074530s] factorial(6) -> 720\n",
      "[0.00079916s] factorial(7) -> 5040\n",
      "[0.00082926s] factorial(8) -> 40320\n",
      "[0.00085792s] factorial(9) -> 362880\n",
      "[0.00088222s] factorial(10) -> 3628800\n"
     ]
    },
    {
     "data": {
      "text/plain": [
       "3628800"
      ]
     },
     "execution_count": 101,
     "metadata": {},
     "output_type": "execute_result"
    }
   ],
   "source": [
    "factorial(10)"
   ]
  },
  {
   "cell_type": "markdown",
   "metadata": {},
   "source": [
    "### Momoization decorator"
   ]
  },
  {
   "cell_type": "code",
   "execution_count": 102,
   "metadata": {
    "scrolled": true
   },
   "outputs": [
    {
     "name": "stdout",
     "output_type": "stream",
     "text": [
      "[0.00000044s] fibonacci(0) -> 0\n",
      "[0.00000144s] fibonacci(1) -> 1\n",
      "[0.00020196s] fibonacci(2) -> 1\n",
      "[0.00000141s] fibonacci(3) -> 2\n",
      "[0.00025220s] fibonacci(4) -> 3\n",
      "[0.00000097s] fibonacci(5) -> 5\n",
      "[0.00030059s] fibonacci(6) -> 8\n",
      "[0.00000086s] fibonacci(7) -> 13\n",
      "[0.00034830s] fibonacci(8) -> 21\n",
      "[0.00000087s] fibonacci(9) -> 34\n",
      "[0.00039637s] fibonacci(10) -> 55\n",
      "[0.00000102s] fibonacci(11) -> 89\n",
      "[0.00044561s] fibonacci(12) -> 144\n",
      "[0.00000105s] fibonacci(13) -> 233\n",
      "[0.00049358s] fibonacci(14) -> 377\n",
      "[0.00000099s] fibonacci(15) -> 610\n",
      "[0.00054108s] fibonacci(16) -> 987\n",
      "[0.00000089s] fibonacci(17) -> 1597\n",
      "[0.00058889s] fibonacci(18) -> 2584\n",
      "[0.00000089s] fibonacci(19) -> 4181\n",
      "[0.00063683s] fibonacci(20) -> 6765\n",
      "[0.00000094s] fibonacci(21) -> 10946\n",
      "[0.00068696s] fibonacci(22) -> 17711\n",
      "[0.00000104s] fibonacci(23) -> 28657\n",
      "[0.00073509s] fibonacci(24) -> 46368\n",
      "[0.00000093s] fibonacci(25) -> 75025\n",
      "[0.00078236s] fibonacci(26) -> 121393\n",
      "[0.00000090s] fibonacci(27) -> 196418\n",
      "[0.00083195s] fibonacci(28) -> 317811\n",
      "[0.00000096s] fibonacci(29) -> 514229\n",
      "[0.00088060s] fibonacci(30) -> 832040\n",
      "[0.00000087s] fibonacci(31) -> 1346269\n",
      "[0.00092993s] fibonacci(32) -> 2178309\n",
      "[0.00000095s] fibonacci(33) -> 3524578\n",
      "[0.00097856s] fibonacci(34) -> 5702887\n",
      "[0.00000091s] fibonacci(35) -> 9227465\n",
      "[0.00102700s] fibonacci(36) -> 14930352\n",
      "[0.00000090s] fibonacci(37) -> 24157817\n",
      "[0.00107496s] fibonacci(38) -> 39088169\n",
      "[0.00000091s] fibonacci(39) -> 63245986\n",
      "[0.00112540s] fibonacci(40) -> 102334155\n",
      "[0.00000092s] fibonacci(41) -> 165580141\n",
      "[0.00117323s] fibonacci(42) -> 267914296\n",
      "[0.00000094s] fibonacci(43) -> 433494437\n",
      "[0.00122362s] fibonacci(44) -> 701408733\n",
      "[0.00000102s] fibonacci(45) -> 1134903170\n",
      "[0.00127174s] fibonacci(46) -> 1836311903\n",
      "[0.00000095s] fibonacci(47) -> 2971215073\n",
      "[0.00132106s] fibonacci(48) -> 4807526976\n",
      "[0.00000201s] fibonacci(49) -> 7778742049\n",
      "[0.00144631s] fibonacci(50) -> 12586269025\n",
      "[0.00000124s] fibonacci(51) -> 20365011074\n",
      "[0.00149750s] fibonacci(52) -> 32951280099\n",
      "[0.00000112s] fibonacci(53) -> 53316291173\n",
      "[0.00154687s] fibonacci(54) -> 86267571272\n",
      "[0.00000096s] fibonacci(55) -> 139583862445\n",
      "[0.00159460s] fibonacci(56) -> 225851433717\n",
      "[0.00000099s] fibonacci(57) -> 365435296162\n",
      "[0.00164250s] fibonacci(58) -> 591286729879\n",
      "[0.00000095s] fibonacci(59) -> 956722026041\n",
      "[0.00169089s] fibonacci(60) -> 1548008755920\n",
      "[0.00000102s] fibonacci(61) -> 2504730781961\n",
      "[0.00173868s] fibonacci(62) -> 4052739537881\n",
      "[0.00000093s] fibonacci(63) -> 6557470319842\n",
      "[0.00178622s] fibonacci(64) -> 10610209857723\n",
      "[0.00000095s] fibonacci(65) -> 17167680177565\n",
      "[0.00183383s] fibonacci(66) -> 27777890035288\n",
      "[0.00000095s] fibonacci(67) -> 44945570212853\n",
      "[0.00188158s] fibonacci(68) -> 72723460248141\n",
      "[0.00000096s] fibonacci(69) -> 117669030460994\n",
      "[0.00193059s] fibonacci(70) -> 190392490709135\n",
      "[0.00000097s] fibonacci(71) -> 308061521170129\n",
      "[0.00197800s] fibonacci(72) -> 498454011879264\n",
      "[0.00000083s] fibonacci(73) -> 806515533049393\n",
      "[0.00221896s] fibonacci(74) -> 1304969544928657\n",
      "[0.00000114s] fibonacci(75) -> 2111485077978050\n",
      "[0.00226809s] fibonacci(76) -> 3416454622906707\n",
      "[0.00000111s] fibonacci(77) -> 5527939700884757\n",
      "[0.00231639s] fibonacci(78) -> 8944394323791464\n",
      "[0.00000106s] fibonacci(79) -> 14472334024676221\n",
      "[0.00236431s] fibonacci(80) -> 23416728348467685\n",
      "[0.00000104s] fibonacci(81) -> 37889062373143906\n",
      "[0.00241296s] fibonacci(82) -> 61305790721611591\n",
      "[0.00000101s] fibonacci(83) -> 99194853094755497\n",
      "[0.00246103s] fibonacci(84) -> 160500643816367088\n",
      "[0.00000101s] fibonacci(85) -> 259695496911122585\n",
      "[0.00251180s] fibonacci(86) -> 420196140727489673\n",
      "[0.00000108s] fibonacci(87) -> 679891637638612258\n",
      "[0.00255910s] fibonacci(88) -> 1100087778366101931\n",
      "[0.00000112s] fibonacci(89) -> 1779979416004714189\n",
      "[0.00260705s] fibonacci(90) -> 2880067194370816120\n",
      "[0.00000104s] fibonacci(91) -> 4660046610375530309\n",
      "[0.00265459s] fibonacci(92) -> 7540113804746346429\n",
      "[0.00000097s] fibonacci(93) -> 12200160415121876738\n",
      "[0.00276611s] fibonacci(94) -> 19740274219868223167\n",
      "[0.00000114s] fibonacci(95) -> 31940434634990099905\n",
      "[0.00281773s] fibonacci(96) -> 51680708854858323072\n",
      "[0.00000100s] fibonacci(97) -> 83621143489848422977\n",
      "[0.00286511s] fibonacci(98) -> 135301852344706746049\n",
      "[0.00000109s] fibonacci(99) -> 218922995834555169026\n",
      "[0.00291376s] fibonacci(100) -> 354224848179261915075\n"
     ]
    },
    {
     "data": {
      "text/plain": [
       "354224848179261915075"
      ]
     },
     "execution_count": 102,
     "metadata": {},
     "output_type": "execute_result"
    }
   ],
   "source": [
    "@functools.lru_cache()\n",
    "@clock\n",
    "def fibonacci(n):\n",
    "    if n < 2:\n",
    "        return n\n",
    "    return fibonacci(n-2) + fibonacci(n-1)\n",
    "\n",
    "fibonacci(100)"
   ]
  },
  {
   "cell_type": "code",
   "execution_count": null,
   "metadata": {},
   "outputs": [],
   "source": []
  }
 ],
 "metadata": {
  "kernelspec": {
   "display_name": "Python 3",
   "language": "python",
   "name": "python3"
  },
  "language_info": {
   "codemirror_mode": {
    "name": "ipython",
    "version": 3
   },
   "file_extension": ".py",
   "mimetype": "text/x-python",
   "name": "python",
   "nbconvert_exporter": "python",
   "pygments_lexer": "ipython3",
   "version": "3.6.4"
  }
 },
 "nbformat": 4,
 "nbformat_minor": 2
}
