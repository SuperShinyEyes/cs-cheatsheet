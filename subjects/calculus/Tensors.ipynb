{
 "cells": [
  {
   "cell_type": "code",
   "execution_count": 1,
   "metadata": {},
   "outputs": [],
   "source": [
    "import numpy as np\n",
    "from itertools import permutations"
   ]
  },
  {
   "cell_type": "markdown",
   "metadata": {},
   "source": [
    "## Tensor dot product dimensions\n",
    "\n",
    "In 2D matrix the following holds;\n",
    "$$\n",
    "(n \\times m) \\cdot (m \\times n) == n \\times n\n",
    "$$\n",
    "What about n-D tensors? It seems to be the last dimension of the first tensor and the second last dimension of the second tensor need to match. In other words,\n",
    "$$\n",
    "(n \\times m \\times a \\times b) \\cdot (.. \\times .. \\times b \\times ..)\n",
    "$$\n",
    "The output dimensions would be\n",
    "$$\n",
    "(n \\times m \\times a \\times b) \\cdot (t \\times g \\times b \\times k) == (n \\times m \\times a \\times t \\times g \\times k)\n",
    "$$\n",
    "Note that, $b$ is gone."
   ]
  },
  {
   "cell_type": "code",
   "execution_count": 10,
   "metadata": {},
   "outputs": [
    {
     "name": "stdout",
     "output_type": "stream",
     "text": [
      "(1):  (3, 6, 5, 7, 12) X (3, 6, 5, 12, 7)\n",
      "\t\t\tOutput shape:  (3, 6, 5, 7, 3, 6, 5, 7)\n",
      "(2):  (3, 6, 5, 7, 12) X (3, 6, 7, 12, 5)\n",
      "\t\t\tOutput shape:  (3, 6, 5, 7, 3, 6, 7, 5)\n",
      "(3):  (3, 6, 5, 7, 12) X (3, 5, 6, 12, 7)\n",
      "\t\t\tOutput shape:  (3, 6, 5, 7, 3, 5, 6, 7)\n",
      "(4):  (3, 6, 5, 7, 12) X (3, 5, 7, 12, 6)\n",
      "\t\t\tOutput shape:  (3, 6, 5, 7, 3, 5, 7, 6)\n",
      "(5):  (3, 6, 5, 7, 12) X (3, 7, 6, 12, 5)\n",
      "\t\t\tOutput shape:  (3, 6, 5, 7, 3, 7, 6, 5)\n",
      "(6):  (3, 6, 5, 7, 12) X (3, 7, 5, 12, 6)\n",
      "\t\t\tOutput shape:  (3, 6, 5, 7, 3, 7, 5, 6)\n",
      "(7):  (3, 6, 5, 7, 12) X (6, 3, 5, 12, 7)\n",
      "\t\t\tOutput shape:  (3, 6, 5, 7, 6, 3, 5, 7)\n",
      "(8):  (3, 6, 5, 7, 12) X (6, 3, 7, 12, 5)\n",
      "\t\t\tOutput shape:  (3, 6, 5, 7, 6, 3, 7, 5)\n",
      "(9):  (3, 6, 5, 7, 12) X (6, 5, 3, 12, 7)\n",
      "\t\t\tOutput shape:  (3, 6, 5, 7, 6, 5, 3, 7)\n",
      "(10):  (3, 6, 5, 7, 12) X (6, 5, 7, 12, 3)\n",
      "\t\t\tOutput shape:  (3, 6, 5, 7, 6, 5, 7, 3)\n",
      "(11):  (3, 6, 5, 7, 12) X (6, 7, 3, 12, 5)\n",
      "\t\t\tOutput shape:  (3, 6, 5, 7, 6, 7, 3, 5)\n",
      "(12):  (3, 6, 5, 7, 12) X (6, 7, 5, 12, 3)\n",
      "\t\t\tOutput shape:  (3, 6, 5, 7, 6, 7, 5, 3)\n",
      "(13):  (3, 6, 5, 7, 12) X (5, 3, 6, 12, 7)\n",
      "\t\t\tOutput shape:  (3, 6, 5, 7, 5, 3, 6, 7)\n",
      "(14):  (3, 6, 5, 7, 12) X (5, 3, 7, 12, 6)\n",
      "\t\t\tOutput shape:  (3, 6, 5, 7, 5, 3, 7, 6)\n",
      "(15):  (3, 6, 5, 7, 12) X (5, 6, 3, 12, 7)\n",
      "\t\t\tOutput shape:  (3, 6, 5, 7, 5, 6, 3, 7)\n",
      "(16):  (3, 6, 5, 7, 12) X (5, 6, 7, 12, 3)\n",
      "\t\t\tOutput shape:  (3, 6, 5, 7, 5, 6, 7, 3)\n",
      "(17):  (3, 6, 5, 7, 12) X (5, 7, 3, 12, 6)\n",
      "\t\t\tOutput shape:  (3, 6, 5, 7, 5, 7, 3, 6)\n",
      "(18):  (3, 6, 5, 7, 12) X (5, 7, 6, 12, 3)\n",
      "\t\t\tOutput shape:  (3, 6, 5, 7, 5, 7, 6, 3)\n",
      "(19):  (3, 6, 5, 7, 12) X (7, 3, 6, 12, 5)\n",
      "\t\t\tOutput shape:  (3, 6, 5, 7, 7, 3, 6, 5)\n",
      "(20):  (3, 6, 5, 7, 12) X (7, 3, 5, 12, 6)\n",
      "\t\t\tOutput shape:  (3, 6, 5, 7, 7, 3, 5, 6)\n",
      "(21):  (3, 6, 5, 7, 12) X (7, 6, 3, 12, 5)\n",
      "\t\t\tOutput shape:  (3, 6, 5, 7, 7, 6, 3, 5)\n",
      "(22):  (3, 6, 5, 7, 12) X (7, 6, 5, 12, 3)\n",
      "\t\t\tOutput shape:  (3, 6, 5, 7, 7, 6, 5, 3)\n",
      "(23):  (3, 6, 5, 7, 12) X (7, 5, 3, 12, 6)\n",
      "\t\t\tOutput shape:  (3, 6, 5, 7, 7, 5, 3, 6)\n",
      "(24):  (3, 6, 5, 7, 12) X (7, 5, 6, 12, 3)\n",
      "\t\t\tOutput shape:  (3, 6, 5, 7, 7, 5, 6, 3)\n"
     ]
    }
   ],
   "source": [
    "shape_a = (3, 6, 5, 7,12)\n",
    "a = np.random.randint(0, 100, shape_a)\n",
    "i = 0\n",
    "\n",
    "# Brute-force analysis of tensor dot product dimension problem\n",
    "for shape in permutations(shape_a):\n",
    "    b = np.random.randint(0, 100, shape)\n",
    "    try:\n",
    "        c = a.dot(b)\n",
    "    except ValueError:\n",
    "        pass\n",
    "    else:\n",
    "        i += 1\n",
    "        print(\"({}): \".format(i), shape_a, \"X\", shape)\n",
    "        print(\"\\t\\t\\tOutput shape: \", c.shape)"
   ]
  },
  {
   "cell_type": "code",
   "execution_count": 2,
   "metadata": {},
   "outputs": [
    {
     "name": "stdout",
     "output_type": "stream",
     "text": [
      "(1):  (3, 6, 5, 7, 12) X (6, 5, 12, 7)\n",
      "\t\t\tOutput shape:  (3, 6, 5, 7, 6, 5, 7)\n",
      "(2):  (3, 6, 5, 7, 12) X (6, 7, 12, 5)\n",
      "\t\t\tOutput shape:  (3, 6, 5, 7, 6, 7, 5)\n",
      "(3):  (3, 6, 5, 7, 12) X (5, 6, 12, 7)\n",
      "\t\t\tOutput shape:  (3, 6, 5, 7, 5, 6, 7)\n",
      "(4):  (3, 6, 5, 7, 12) X (5, 7, 12, 6)\n",
      "\t\t\tOutput shape:  (3, 6, 5, 7, 5, 7, 6)\n",
      "(5):  (3, 6, 5, 7, 12) X (7, 6, 12, 5)\n",
      "\t\t\tOutput shape:  (3, 6, 5, 7, 7, 6, 5)\n",
      "(6):  (3, 6, 5, 7, 12) X (7, 5, 12, 6)\n",
      "\t\t\tOutput shape:  (3, 6, 5, 7, 7, 5, 6)\n"
     ]
    }
   ],
   "source": [
    "shape_a = (3, 6, 5, 7,12)\n",
    "shape_b = (6, 5, 7,12)\n",
    "a = np.random.randint(0, 100, shape_a)\n",
    "i = 0\n",
    "\n",
    "# Brute-force analysis of tensor dot product dimension problem\n",
    "for shape in permutations(shape_b):\n",
    "    b = np.random.randint(0, 100, shape)\n",
    "    try:\n",
    "        c = a.dot(b)\n",
    "    except ValueError:\n",
    "        pass\n",
    "    else:\n",
    "        i += 1\n",
    "        print(\"({}): \".format(i), shape_a, \"X\", shape)\n",
    "        print(\"\\t\\t\\tOutput shape: \", c.shape)"
   ]
  }
 ],
 "metadata": {
  "kernelspec": {
   "display_name": "Python 3",
   "language": "python",
   "name": "python3"
  },
  "language_info": {
   "codemirror_mode": {
    "name": "ipython",
    "version": 3
   },
   "file_extension": ".py",
   "mimetype": "text/x-python",
   "name": "python",
   "nbconvert_exporter": "python",
   "pygments_lexer": "ipython3",
   "version": "3.6.4"
  }
 },
 "nbformat": 4,
 "nbformat_minor": 2
}
