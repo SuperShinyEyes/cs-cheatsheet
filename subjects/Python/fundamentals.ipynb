{
 "cells": [
  {
   "cell_type": "markdown",
   "metadata": {},
   "source": [
    "# Python cheatsheet"
   ]
  },
  {
   "cell_type": "markdown",
   "metadata": {},
   "source": [
    "## Tuples\n",
    "### Tuple unpacking"
   ]
  },
  {
   "cell_type": "code",
   "execution_count": 2,
   "metadata": {},
   "outputs": [],
   "source": [
    "def divmod(x,y):\n",
    "    return x // y, x % y\n",
    "\n",
    "args = (20,8)\n",
    "divmod(20, 8) == divmod(*args)"
   ]
  },
  {
   "cell_type": "markdown",
   "metadata": {},
   "source": [
    "Using ``*`` to grab excess items"
   ]
  },
  {
   "cell_type": "code",
   "execution_count": 8,
   "metadata": {},
   "outputs": [
    {
     "data": {
      "text/plain": [
       "(0, 1, [2, 3, 4])"
      ]
     },
     "execution_count": 8,
     "metadata": {},
     "output_type": "execute_result"
    }
   ],
   "source": [
    "a, b, *rest = range(5)\n",
    "a, b, rest"
   ]
  },
  {
   "cell_type": "code",
   "execution_count": 9,
   "metadata": {},
   "outputs": [
    {
     "data": {
      "text/plain": [
       "(0, 1, [2])"
      ]
     },
     "execution_count": 9,
     "metadata": {},
     "output_type": "execute_result"
    }
   ],
   "source": [
    "a, b, *rest = range(3)\n",
    "a, b, rest"
   ]
  },
  {
   "cell_type": "code",
   "execution_count": 10,
   "metadata": {},
   "outputs": [
    {
     "data": {
      "text/plain": [
       "(0, 1, [])"
      ]
     },
     "execution_count": 10,
     "metadata": {},
     "output_type": "execute_result"
    }
   ],
   "source": [
    "a, b, *rest = range(2)\n",
    "a, b, rest"
   ]
  },
  {
   "cell_type": "markdown",
   "metadata": {},
   "source": [
    "``*`` prefix can appear in any position"
   ]
  },
  {
   "cell_type": "code",
   "execution_count": 12,
   "metadata": {},
   "outputs": [
    {
     "data": {
      "text/plain": [
       "(3, 4, [0, 1, 2])"
      ]
     },
     "execution_count": 12,
     "metadata": {},
     "output_type": "execute_result"
    }
   ],
   "source": [
    "*head, a, b = range(5)\n",
    "a, b, head"
   ]
  },
  {
   "cell_type": "markdown",
   "metadata": {},
   "source": [
    "### Nested Tuple unpacking"
   ]
  },
  {
   "cell_type": "code",
   "execution_count": 13,
   "metadata": {},
   "outputs": [],
   "source": [
    "metro_areas = [ \n",
    "    ('Tokyo', 'JP', 36.933, (35.689722, 139.691667)),\n",
    "    (' Delhi NCR', 'IN', 21.935, (28.613889, 77.208889)),\n",
    "    ('Mexico City', 'MX', 20.142, (19.433333, -99.133333)),\n",
    "    ('New York-Newark', 'US', 20.104, (40.808611, -74.020386)),\n",
    "    ('Sao Paulo', 'BR', 19.649, (-23.547778, -46.635833)), \n",
    "]"
   ]
  },
  {
   "cell_type": "code",
   "execution_count": 16,
   "metadata": {},
   "outputs": [
    {
     "name": "stdout",
     "output_type": "stream",
     "text": [
      "                |   lat.    |   long.  \n",
      "Mexico City     |   19.4333 |  -99.1333\n",
      "New York-Newark |   40.8086 |  -74.0204\n",
      "Sao Paulo       |  -23.5478 |  -46.6358\n"
     ]
    }
   ],
   "source": [
    "print('{:15} | {:^9} | {:^9}'.format('', 'lat.', 'long.'))\n",
    "fmt = '{:15} | {:9.4f} | {:9.4f}'\n",
    "for name, cc, pop, (lat, long) in metro_areas:\n",
    "    if long <= 0:\n",
    "        print(fmt.format(name, lat, long))"
   ]
  },
  {
   "cell_type": "markdown",
   "metadata": {},
   "source": [
    "### Named Tuples"
   ]
  },
  {
   "cell_type": "code",
   "execution_count": 18,
   "metadata": {},
   "outputs": [],
   "source": [
    "from collections import namedtuple"
   ]
  },
  {
   "cell_type": "code",
   "execution_count": 19,
   "metadata": {},
   "outputs": [],
   "source": [
    "City = namedtuple('City', 'name country population coordinates')"
   ]
  },
  {
   "cell_type": "code",
   "execution_count": 20,
   "metadata": {},
   "outputs": [],
   "source": [
    "tokyo = City('Tokyo', 'JP', 36.933, (35.689722, 133.5846))"
   ]
  },
  {
   "cell_type": "code",
   "execution_count": 21,
   "metadata": {},
   "outputs": [
    {
     "data": {
      "text/plain": [
       "City(name='Tokyo', country='JP', population=36.933, coordinates=(35.689722, 133.5846))"
      ]
     },
     "execution_count": 21,
     "metadata": {},
     "output_type": "execute_result"
    }
   ],
   "source": [
    "tokyo"
   ]
  },
  {
   "cell_type": "code",
   "execution_count": 23,
   "metadata": {},
   "outputs": [
    {
     "data": {
      "text/plain": [
       "'JP'"
      ]
     },
     "execution_count": 23,
     "metadata": {},
     "output_type": "execute_result"
    }
   ],
   "source": [
    "tokyo.country"
   ]
  },
  {
   "cell_type": "code",
   "execution_count": 24,
   "metadata": {},
   "outputs": [
    {
     "data": {
      "text/plain": [
       "'JP'"
      ]
     },
     "execution_count": 24,
     "metadata": {},
     "output_type": "execute_result"
    }
   ],
   "source": [
    "tokyo[1]"
   ]
  },
  {
   "cell_type": "code",
   "execution_count": 25,
   "metadata": {},
   "outputs": [
    {
     "data": {
      "text/plain": [
       "('name', 'country', 'population', 'coordinates')"
      ]
     },
     "execution_count": 25,
     "metadata": {},
     "output_type": "execute_result"
    }
   ],
   "source": [
    "City._fields"
   ]
  },
  {
   "cell_type": "code",
   "execution_count": 26,
   "metadata": {},
   "outputs": [],
   "source": [
    "LatLong = namedtuple('LatLong', 'lat long')"
   ]
  },
  {
   "cell_type": "code",
   "execution_count": 28,
   "metadata": {},
   "outputs": [],
   "source": [
    "delhi_data = ('Delhi NCR', 'IN', 21.935, LatLong(28.354, 77.2))"
   ]
  },
  {
   "cell_type": "code",
   "execution_count": 29,
   "metadata": {},
   "outputs": [
    {
     "data": {
      "text/plain": [
       "City(name='Delhi NCR', country='IN', population=21.935, coordinates=LatLong(lat=28.354, long=77.2))"
      ]
     },
     "execution_count": 29,
     "metadata": {},
     "output_type": "execute_result"
    }
   ],
   "source": [
    "delhi = City._make(delhi_data);delhi"
   ]
  },
  {
   "cell_type": "code",
   "execution_count": 30,
   "metadata": {},
   "outputs": [
    {
     "data": {
      "text/plain": [
       "OrderedDict([('name', 'Delhi NCR'),\n",
       "             ('country', 'IN'),\n",
       "             ('population', 21.935),\n",
       "             ('coordinates', LatLong(lat=28.354, long=77.2))])"
      ]
     },
     "execution_count": 30,
     "metadata": {},
     "output_type": "execute_result"
    }
   ],
   "source": [
    "delhi._asdict()"
   ]
  },
  {
   "cell_type": "code",
   "execution_count": 32,
   "metadata": {},
   "outputs": [
    {
     "name": "stdout",
     "output_type": "stream",
     "text": [
      "name: Delhi NCR\n",
      "country: IN\n",
      "population: 21.935\n",
      "coordinates: LatLong(lat=28.354, long=77.2)\n"
     ]
    }
   ],
   "source": [
    "for k, v in delhi._asdict().items():\n",
    "    print(k + \":\", v)"
   ]
  },
  {
   "cell_type": "markdown",
   "metadata": {},
   "source": [
    "## Slicing"
   ]
  },
  {
   "cell_type": "code",
   "execution_count": 33,
   "metadata": {},
   "outputs": [
    {
     "data": {
      "text/plain": [
       "'bye'"
      ]
     },
     "execution_count": 33,
     "metadata": {},
     "output_type": "execute_result"
    }
   ],
   "source": [
    "s = 'bicycle'\n",
    "s[::3]"
   ]
  },
  {
   "cell_type": "code",
   "execution_count": 34,
   "metadata": {},
   "outputs": [
    {
     "data": {
      "text/plain": [
       "'elcycib'"
      ]
     },
     "execution_count": 34,
     "metadata": {},
     "output_type": "execute_result"
    }
   ],
   "source": [
    "s[::-1]"
   ]
  },
  {
   "cell_type": "code",
   "execution_count": 35,
   "metadata": {},
   "outputs": [
    {
     "data": {
      "text/plain": [
       "'eyb'"
      ]
     },
     "execution_count": 35,
     "metadata": {},
     "output_type": "execute_result"
    }
   ],
   "source": [
    "s[::-3]"
   ]
  },
  {
   "cell_type": "code",
   "execution_count": 38,
   "metadata": {},
   "outputs": [
    {
     "data": {
      "text/plain": [
       "'bi'"
      ]
     },
     "execution_count": 38,
     "metadata": {},
     "output_type": "execute_result"
    }
   ],
   "source": [
    "# You can name a slice\n",
    "first_two = slice(0,2)\n",
    "s[first_two]"
   ]
  },
  {
   "cell_type": "code",
   "execution_count": 42,
   "metadata": {},
   "outputs": [
    {
     "data": {
      "text/plain": [
       "[0, 1, 20, 30, 5, 6, 7, 8, 9]"
      ]
     },
     "execution_count": 42,
     "metadata": {},
     "output_type": "execute_result"
    }
   ],
   "source": [
    "# You can assign to slices\n",
    "numbers = list(range(10))\n",
    "numbers[2:5] = [20, 30]; numbers"
   ]
  },
  {
   "cell_type": "code",
   "execution_count": 43,
   "metadata": {},
   "outputs": [
    {
     "data": {
      "text/plain": [
       "[0, 1, 20, 30, 5, 8, 9]"
      ]
     },
     "execution_count": 43,
     "metadata": {},
     "output_type": "execute_result"
    }
   ],
   "source": [
    "del numbers[5:7]; numbers"
   ]
  },
  {
   "cell_type": "code",
   "execution_count": 44,
   "metadata": {},
   "outputs": [
    {
     "data": {
      "text/plain": [
       "[0, 1, 20, 11, 5, 22, 9]"
      ]
     },
     "execution_count": 44,
     "metadata": {},
     "output_type": "execute_result"
    }
   ],
   "source": [
    "numbers[3::2] = [11, 22]; numbers"
   ]
  },
  {
   "cell_type": "code",
   "execution_count": 46,
   "metadata": {},
   "outputs": [
    {
     "data": {
      "text/plain": [
       "[0, 1, 100]"
      ]
     },
     "execution_count": 46,
     "metadata": {},
     "output_type": "execute_result"
    }
   ],
   "source": [
    "numbers[2:5] = [100]; numbers"
   ]
  },
  {
   "cell_type": "markdown",
   "metadata": {},
   "source": [
    "## Python bytecode disassembly tool – ``dis``"
   ]
  },
  {
   "cell_type": "code",
   "execution_count": 50,
   "metadata": {},
   "outputs": [
    {
     "name": "stdout",
     "output_type": "stream",
     "text": [
      "  1           0 LOAD_NAME                0 (s)\n",
      "              2 LOAD_NAME                1 (a)\n",
      "              4 DUP_TOP_TWO\n",
      "              6 BINARY_SUBSCR\n",
      "              8 LOAD_NAME                2 (b)\n",
      "             10 INPLACE_ADD\n",
      "             12 ROT_THREE\n",
      "             14 STORE_SUBSCR\n",
      "             16 LOAD_CONST               0 (None)\n",
      "             18 RETURN_VALUE\n"
     ]
    }
   ],
   "source": [
    "import dis\n",
    "\n",
    "dis.dis('s[a] += b')"
   ]
  },
  {
   "cell_type": "markdown",
   "metadata": {},
   "source": [
    "## Key is brilliant"
   ]
  },
  {
   "cell_type": "code",
   "execution_count": 51,
   "metadata": {},
   "outputs": [
    {
     "data": {
      "text/plain": [
       "[1, '1', 5, 14, 19, '23', 28, '28']"
      ]
     },
     "execution_count": 51,
     "metadata": {},
     "output_type": "execute_result"
    }
   ],
   "source": [
    "l = [28,14,'28',5,1,'1','23',19]\n",
    "sorted(l, key=int)"
   ]
  },
  {
   "cell_type": "code",
   "execution_count": 52,
   "metadata": {},
   "outputs": [
    {
     "data": {
      "text/plain": [
       "[1, '1', 14, 19, '23', 28, '28', 5]"
      ]
     },
     "execution_count": 52,
     "metadata": {},
     "output_type": "execute_result"
    }
   ],
   "source": [
    "sorted(l, key=str)"
   ]
  },
  {
   "cell_type": "markdown",
   "metadata": {},
   "source": [
    "## Functions as first-class objects"
   ]
  },
  {
   "cell_type": "code",
   "execution_count": 54,
   "metadata": {},
   "outputs": [
    {
     "data": {
      "text/plain": [
       "3628800"
      ]
     },
     "execution_count": 54,
     "metadata": {},
     "output_type": "execute_result"
    }
   ],
   "source": [
    "def factorial(n):\n",
    "    '''returns n!'''\n",
    "    return n if n < 2 else factorial(n-1) * n\n",
    "\n",
    "factorial(10)"
   ]
  },
  {
   "cell_type": "code",
   "execution_count": 55,
   "metadata": {},
   "outputs": [
    {
     "name": "stdout",
     "output_type": "stream",
     "text": [
      "Help on function factorial in module __main__:\n",
      "\n",
      "factorial(n)\n",
      "    returns n!\n",
      "\n"
     ]
    }
   ],
   "source": [
    "help(factorial)"
   ]
  },
  {
   "cell_type": "code",
   "execution_count": 56,
   "metadata": {},
   "outputs": [
    {
     "data": {
      "text/plain": [
       "[0, 1, 2, 6, 24, 120, 720, 5040, 40320, 362880]"
      ]
     },
     "execution_count": 56,
     "metadata": {},
     "output_type": "execute_result"
    }
   ],
   "source": [
    "[factorial(i) for i in range(10)]"
   ]
  },
  {
   "cell_type": "code",
   "execution_count": 61,
   "metadata": {},
   "outputs": [
    {
     "data": {
      "text/plain": [
       "[0, 1, 2, 6, 24, 120, 720, 5040, 40320, 362880]"
      ]
     },
     "execution_count": 61,
     "metadata": {},
     "output_type": "execute_result"
    }
   ],
   "source": [
    "list(map(factorial, range(10)))"
   ]
  },
  {
   "cell_type": "markdown",
   "metadata": {},
   "source": [
    "### Higher-order functions"
   ]
  },
  {
   "cell_type": "code",
   "execution_count": 57,
   "metadata": {},
   "outputs": [
    {
     "data": {
      "text/plain": [
       "'gnuoyes'"
      ]
     },
     "execution_count": 57,
     "metadata": {},
     "output_type": "execute_result"
    }
   ],
   "source": [
    "def reverse(word):\n",
    "    return word[::-1]\n",
    "\n",
    "reverse('seyoung')"
   ]
  },
  {
   "cell_type": "code",
   "execution_count": 59,
   "metadata": {},
   "outputs": [
    {
     "data": {
      "text/plain": [
       "['mustikka', 'omena', 'banaani', 'appelsiini']"
      ]
     },
     "execution_count": 59,
     "metadata": {},
     "output_type": "execute_result"
    }
   ],
   "source": [
    "fruits = 'banaani mustikka appelsiini omena'.split()\n",
    "sorted(fruits, key=reverse)"
   ]
  },
  {
   "cell_type": "code",
   "execution_count": 62,
   "metadata": {},
   "outputs": [
    {
     "data": {
      "text/plain": [
       "['mustikka', 'omena', 'banaani', 'appelsiini']"
      ]
     },
     "execution_count": 62,
     "metadata": {},
     "output_type": "execute_result"
    }
   ],
   "source": [
    "sorted(fruits, key=lambda word: word[::-1])"
   ]
  },
  {
   "cell_type": "markdown",
   "metadata": {},
   "source": [
    "### User-defined callable types"
   ]
  },
  {
   "cell_type": "code",
   "execution_count": 65,
   "metadata": {},
   "outputs": [],
   "source": [
    "import random\n",
    "\n",
    "class BingoCage:\n",
    "    \n",
    "    def __init__(self, items):\n",
    "        self._items = list(items)\n",
    "        random.shuffle(self._items)\n",
    "        \n",
    "    def pick(self):\n",
    "        try:\n",
    "            return self._items.pop()\n",
    "        except IndexError:\n",
    "            raise LookupError('Pick from empty BingoCage')\n",
    "            \n",
    "    def __call__(self):\n",
    "        return self.pick()"
   ]
  },
  {
   "cell_type": "code",
   "execution_count": 69,
   "metadata": {},
   "outputs": [
    {
     "data": {
      "text/plain": [
       "(17, 7)"
      ]
     },
     "execution_count": 69,
     "metadata": {},
     "output_type": "execute_result"
    }
   ],
   "source": [
    "bingo = BingoCage(range(30))\n",
    "bingo(), bingo.pick()"
   ]
  },
  {
   "cell_type": "markdown",
   "metadata": {},
   "source": [
    "## Decorators\n",
    "\n",
    "- https://github.com/GrahamDumpleton/wrapt/blob/develop/blog/01-how-you-implemented-your-python-decorator-is-wrong.md"
   ]
  },
  {
   "cell_type": "code",
   "execution_count": null,
   "metadata": {},
   "outputs": [],
   "source": [
    "'''\n",
    "The following two are equivalent\n",
    "'''\n",
    "class A:\n",
    "    @classmethod\n",
    "    def method(cls):\n",
    "        pass\n",
    "    \n",
    "\n",
    "class B:\n",
    "    def method(cls):\n",
    "        pass\n",
    "    method classmethod(method)"
   ]
  },
  {
   "cell_type": "code",
   "execution_count": 71,
   "metadata": {},
   "outputs": [
    {
     "name": "stdout",
     "output_type": "stream",
     "text": [
      "running inner()\n",
      "running target()\n"
     ]
    }
   ],
   "source": [
    "def deco(func):\n",
    "    def inner():\n",
    "        print('running inner()')\n",
    "        func()\n",
    "    return inner\n",
    "\n",
    "@deco\n",
    "def target():\n",
    "    print('running target()')\n",
    "    \n",
    "target()"
   ]
  },
  {
   "cell_type": "markdown",
   "metadata": {},
   "source": [
    "Decorator is just a syntatic sugar as passing another function to a function:"
   ]
  },
  {
   "cell_type": "code",
   "execution_count": 74,
   "metadata": {},
   "outputs": [
    {
     "name": "stdout",
     "output_type": "stream",
     "text": [
      "running inner()\n",
      "running target()\n"
     ]
    }
   ],
   "source": [
    "def inner(func):\n",
    "    print('running inner()')\n",
    "    func()\n",
    "\n",
    "def target():\n",
    "    print('running target()')\n",
    "\n",
    "\n",
    "inner(target)"
   ]
  },
  {
   "cell_type": "markdown",
   "metadata": {},
   "source": [
    "### Decorator – practical usecase"
   ]
  },
  {
   "cell_type": "code",
   "execution_count": 76,
   "metadata": {},
   "outputs": [],
   "source": [
    "promos = []\n",
    "\n",
    "def promotion(promo_func):\n",
    "    promos.append(promo_func)\n",
    "    return promo_func\n",
    "\n",
    "'''\n",
    "Decorators are run on import time. Thus `promos` will be filled up \n",
    "as soon as the module is imported.\n",
    "'''\n",
    "\n",
    "@promotion\n",
    "def fidelity(order):\n",
    "    '''\n",
    "    5% discount for customers with 1000+ fidelity points\n",
    "    '''\n",
    "    return order.total * .05 if order.customer.fidelity >= 1000 else 0\n",
    "\n",
    "@promotion\n",
    "def bulk_item(order):\n",
    "    '''10% discount for each LineItem with 20 or mor units'''\n",
    "    discount = 0\n",
    "    for item in order.cart:\n",
    "        if item.quantity >= 20:\n",
    "            discount += item.total() * .1\n",
    "    return discount\n",
    "\n",
    "\n",
    "def best_promo(order):\n",
    "    '''Select best discount available'''\n",
    "    return max(promo(order) for promo in promos)"
   ]
  },
  {
   "cell_type": "markdown",
   "metadata": {},
   "source": [
    "### Closure\n",
    "\n",
    "A closure is a function within a function which accesses nonglobal variable that is declared outside its body\n",
    "\n",
    "![closure_variable_scope](notebook-images/python/closure_variable_scope.png)"
   ]
  },
  {
   "cell_type": "code",
   "execution_count": 77,
   "metadata": {},
   "outputs": [
    {
     "data": {
      "text/plain": [
       "(10.0, 10.5, 11.0)"
      ]
     },
     "execution_count": 77,
     "metadata": {},
     "output_type": "execute_result"
    }
   ],
   "source": [
    "def make_averager():\n",
    "    series = []\n",
    "    \n",
    "    def avg(new_value):\n",
    "        series.append(new_value)\n",
    "        return sum(series) / len(series)\n",
    "    \n",
    "    return avg\n",
    "\n",
    "avg = make_averager()\n",
    "avg(10), avg(11), avg(12)"
   ]
  },
  {
   "cell_type": "code",
   "execution_count": 78,
   "metadata": {},
   "outputs": [
    {
     "data": {
      "text/plain": [
       "('new_value',)"
      ]
     },
     "execution_count": 78,
     "metadata": {},
     "output_type": "execute_result"
    }
   ],
   "source": [
    "avg.__code__.co_varnames"
   ]
  },
  {
   "cell_type": "code",
   "execution_count": 79,
   "metadata": {},
   "outputs": [
    {
     "data": {
      "text/plain": [
       "('series',)"
      ]
     },
     "execution_count": 79,
     "metadata": {},
     "output_type": "execute_result"
    }
   ],
   "source": [
    "avg.__code__.co_freevars"
   ]
  },
  {
   "cell_type": "code",
   "execution_count": 80,
   "metadata": {},
   "outputs": [
    {
     "data": {
      "text/plain": [
       "(<cell at 0x1118e90a8: list object at 0x112697d88>,)"
      ]
     },
     "execution_count": 80,
     "metadata": {},
     "output_type": "execute_result"
    }
   ],
   "source": [
    "avg.__closure__"
   ]
  },
  {
   "cell_type": "code",
   "execution_count": 82,
   "metadata": {},
   "outputs": [
    {
     "data": {
      "text/plain": [
       "[10, 11, 12]"
      ]
     },
     "execution_count": 82,
     "metadata": {},
     "output_type": "execute_result"
    }
   ],
   "source": [
    "avg.__closure__[0].cell_contents"
   ]
  },
  {
   "cell_type": "markdown",
   "metadata": {},
   "source": [
    "#### Nonlocal declaration"
   ]
  },
  {
   "cell_type": "code",
   "execution_count": 83,
   "metadata": {},
   "outputs": [],
   "source": [
    "def make_averager():\n",
    "    count = 0\n",
    "    total = 0\n",
    "    \n",
    "    def avg(new_value):\n",
    "        nonlocal count, total\n",
    "        count += 1\n",
    "        total += new_value\n",
    "        return total / count\n",
    "    \n",
    "    return avg"
   ]
  },
  {
   "cell_type": "markdown",
   "metadata": {},
   "source": [
    "### Runtime measure decorator"
   ]
  },
  {
   "cell_type": "code",
   "execution_count": 35,
   "metadata": {},
   "outputs": [],
   "source": [
    "import time\n",
    "import functools\n",
    "\n",
    "def clock(func):\n",
    "    @functools.wraps(func)\n",
    "    def clocked(*args, **kwargs):\n",
    "        t0 = time.perf_counter()\n",
    "        result = func(*args, **kwargs)\n",
    "        elapsed = time.perf_counter() - t0\n",
    "        name = func.__name__\n",
    "        \n",
    "        arg_list = []\n",
    "        if args:\n",
    "            arg_list.append(', '.join(repr(arg) for arg in args))\n",
    "        if kwargs:\n",
    "            pairs = ['%s=%r' % (k, w) for k, w in sorted(kwargs.items())]\n",
    "            arg_list.append(', '.join(pairs))\n",
    "        arg_str = ', '.join(arg_list)\n",
    "        print('[{:.8f}s] {:s}({:s}) -> {}'.format(\n",
    "            elapsed,\n",
    "            name,\n",
    "            arg_str,\n",
    "            result\n",
    "        ))\n",
    "        return result\n",
    "    return clocked"
   ]
  },
  {
   "cell_type": "code",
   "execution_count": 53,
   "metadata": {},
   "outputs": [
    {
     "name": "stdout",
     "output_type": "stream",
     "text": [
      "[1.00002574s] snooze(1) -> None\n"
     ]
    }
   ],
   "source": [
    "@clock\n",
    "def snooze(seconds):\n",
    "    time.sleep(seconds)\n",
    "    \n",
    "@clock\n",
    "def factorial(n):\n",
    "    '''returns n!'''\n",
    "    return n if n < 2 else factorial(n-1) * n\n",
    "\n",
    "snooze(1)"
   ]
  },
  {
   "cell_type": "code",
   "execution_count": 44,
   "metadata": {},
   "outputs": [
    {
     "data": {
      "text/plain": [
       "3628800"
      ]
     },
     "execution_count": 44,
     "metadata": {},
     "output_type": "execute_result"
    }
   ],
   "source": [
    "factorial(10)"
   ]
  },
  {
   "cell_type": "markdown",
   "metadata": {},
   "source": [
    "### Unwrapping a decorator"
   ]
  },
  {
   "cell_type": "code",
   "execution_count": 54,
   "metadata": {},
   "outputs": [],
   "source": [
    "snooze.__wrapped__(2)"
   ]
  },
  {
   "cell_type": "markdown",
   "metadata": {},
   "source": [
    "### Momoization decorator"
   ]
  },
  {
   "cell_type": "code",
   "execution_count": 103,
   "metadata": {
    "scrolled": true
   },
   "outputs": [
    {
     "name": "stdout",
     "output_type": "stream",
     "text": [
      "[0.00000047s] fibonacci(0) -> 0\n",
      "[0.00000062s] fibonacci(1) -> 1\n",
      "[0.00018753s] fibonacci(2) -> 1\n",
      "[0.00000126s] fibonacci(3) -> 2\n",
      "[0.00023754s] fibonacci(4) -> 3\n",
      "[0.00000094s] fibonacci(5) -> 5\n",
      "[0.00028544s] fibonacci(6) -> 8\n",
      "[0.00000091s] fibonacci(7) -> 13\n",
      "[0.00033311s] fibonacci(8) -> 21\n",
      "[0.00000088s] fibonacci(9) -> 34\n",
      "[0.00038029s] fibonacci(10) -> 55\n",
      "[0.00000106s] fibonacci(11) -> 89\n",
      "[0.00042941s] fibonacci(12) -> 144\n",
      "[0.00000100s] fibonacci(13) -> 233\n",
      "[0.00047744s] fibonacci(14) -> 377\n",
      "[0.00000095s] fibonacci(15) -> 610\n",
      "[0.00052555s] fibonacci(16) -> 987\n",
      "[0.00000098s] fibonacci(17) -> 1597\n",
      "[0.00057387s] fibonacci(18) -> 2584\n",
      "[0.00000093s] fibonacci(19) -> 4181\n",
      "[0.00062187s] fibonacci(20) -> 6765\n",
      "[0.00000091s] fibonacci(21) -> 10946\n",
      "[0.00067036s] fibonacci(22) -> 17711\n",
      "[0.00000106s] fibonacci(23) -> 28657\n",
      "[0.00071860s] fibonacci(24) -> 46368\n",
      "[0.00000088s] fibonacci(25) -> 75025\n",
      "[0.00076595s] fibonacci(26) -> 121393\n",
      "[0.00000088s] fibonacci(27) -> 196418\n",
      "[0.00081273s] fibonacci(28) -> 317811\n",
      "[0.00000088s] fibonacci(29) -> 514229\n",
      "[0.00085992s] fibonacci(30) -> 832040\n",
      "[0.00000092s] fibonacci(31) -> 1346269\n",
      "[0.00090667s] fibonacci(32) -> 2178309\n",
      "[0.00000092s] fibonacci(33) -> 3524578\n",
      "[0.00095364s] fibonacci(34) -> 5702887\n",
      "[0.00000090s] fibonacci(35) -> 9227465\n",
      "[0.00100009s] fibonacci(36) -> 14930352\n",
      "[0.00000097s] fibonacci(37) -> 24157817\n",
      "[0.00104787s] fibonacci(38) -> 39088169\n",
      "[0.00000089s] fibonacci(39) -> 63245986\n",
      "[0.00109493s] fibonacci(40) -> 102334155\n",
      "[0.00000104s] fibonacci(41) -> 165580141\n",
      "[0.00114280s] fibonacci(42) -> 267914296\n",
      "[0.00000092s] fibonacci(43) -> 433494437\n",
      "[0.00119226s] fibonacci(44) -> 701408733\n",
      "[0.00000107s] fibonacci(45) -> 1134903170\n",
      "[0.00124033s] fibonacci(46) -> 1836311903\n",
      "[0.00000107s] fibonacci(47) -> 2971215073\n",
      "[0.00128768s] fibonacci(48) -> 4807526976\n",
      "[0.00000105s] fibonacci(49) -> 7778742049\n",
      "[0.00133551s] fibonacci(50) -> 12586269025\n",
      "[0.00000108s] fibonacci(51) -> 20365011074\n",
      "[0.00149767s] fibonacci(52) -> 32951280099\n",
      "[0.00000117s] fibonacci(53) -> 53316291173\n",
      "[0.00154963s] fibonacci(54) -> 86267571272\n",
      "[0.00000100s] fibonacci(55) -> 139583862445\n",
      "[0.00159663s] fibonacci(56) -> 225851433717\n",
      "[0.00000101s] fibonacci(57) -> 365435296162\n",
      "[0.00164442s] fibonacci(58) -> 591286729879\n",
      "[0.00000104s] fibonacci(59) -> 956722026041\n",
      "[0.00169188s] fibonacci(60) -> 1548008755920\n",
      "[0.00000101s] fibonacci(61) -> 2504730781961\n",
      "[0.00173856s] fibonacci(62) -> 4052739537881\n",
      "[0.00000097s] fibonacci(63) -> 6557470319842\n",
      "[0.00178615s] fibonacci(64) -> 10610209857723\n",
      "[0.00000098s] fibonacci(65) -> 17167680177565\n",
      "[0.00183278s] fibonacci(66) -> 27777890035288\n",
      "[0.00000101s] fibonacci(67) -> 44945570212853\n",
      "[0.00187957s] fibonacci(68) -> 72723460248141\n",
      "[0.00000108s] fibonacci(69) -> 117669030460994\n",
      "[0.00192640s] fibonacci(70) -> 190392490709135\n",
      "[0.00000095s] fibonacci(71) -> 308061521170129\n",
      "[0.00197353s] fibonacci(72) -> 498454011879264\n",
      "[0.00000098s] fibonacci(73) -> 806515533049393\n",
      "[0.00202084s] fibonacci(74) -> 1304969544928657\n",
      "[0.00000100s] fibonacci(75) -> 2111485077978050\n",
      "[0.00303772s] fibonacci(76) -> 3416454622906707\n",
      "[0.00000149s] fibonacci(77) -> 5527939700884757\n",
      "[0.00316910s] fibonacci(78) -> 8944394323791464\n",
      "[0.00000113s] fibonacci(79) -> 14472334024676221\n",
      "[0.00321860s] fibonacci(80) -> 23416728348467685\n",
      "[0.00000100s] fibonacci(81) -> 37889062373143906\n",
      "[0.00326648s] fibonacci(82) -> 61305790721611591\n",
      "[0.00000097s] fibonacci(83) -> 99194853094755497\n",
      "[0.00331421s] fibonacci(84) -> 160500643816367088\n",
      "[0.00000098s] fibonacci(85) -> 259695496911122585\n",
      "[0.00336403s] fibonacci(86) -> 420196140727489673\n",
      "[0.00000106s] fibonacci(87) -> 679891637638612258\n",
      "[0.00341073s] fibonacci(88) -> 1100087778366101931\n",
      "[0.00000110s] fibonacci(89) -> 1779979416004714189\n",
      "[0.00345798s] fibonacci(90) -> 2880067194370816120\n",
      "[0.00000103s] fibonacci(91) -> 4660046610375530309\n",
      "[0.00350508s] fibonacci(92) -> 7540113804746346429\n",
      "[0.00000098s] fibonacci(93) -> 12200160415121876738\n",
      "[0.00355214s] fibonacci(94) -> 19740274219868223167\n",
      "[0.00000095s] fibonacci(95) -> 31940434634990099905\n",
      "[0.00359954s] fibonacci(96) -> 51680708854858323072\n",
      "[0.00000101s] fibonacci(97) -> 83621143489848422977\n",
      "[0.00364663s] fibonacci(98) -> 135301852344706746049\n",
      "[0.00000094s] fibonacci(99) -> 218922995834555169026\n",
      "[0.00369384s] fibonacci(100) -> 354224848179261915075\n"
     ]
    },
    {
     "data": {
      "text/plain": [
       "354224848179261915075"
      ]
     },
     "execution_count": 103,
     "metadata": {},
     "output_type": "execute_result"
    }
   ],
   "source": [
    "'''\n",
    "@functools.lru_cache(maxsize=128, typed=False)\n",
    "maxsize should be a power of 2 for optimal performance.\n",
    "'''\n",
    "@functools.lru_cache(maxsize=128, typed=False)\n",
    "@clock\n",
    "def fibonacci(n):\n",
    "    if n < 2:\n",
    "        return n\n",
    "    return fibonacci(n-2) + fibonacci(n-1)\n",
    "\n",
    "fibonacci(100)"
   ]
  },
  {
   "cell_type": "markdown",
   "metadata": {},
   "source": [
    "### `singledispatch` for function overloading"
   ]
  },
  {
   "cell_type": "code",
   "execution_count": 110,
   "metadata": {},
   "outputs": [
    {
     "name": "stdout",
     "output_type": "stream",
     "text": [
      "int:  123\n",
      "str:  123\n",
      "sequence  [123, 543]\n",
      "sequence  (123, 543)\n",
      "any:  23.4\n"
     ]
    }
   ],
   "source": [
    "from functools import singledispatch\n",
    "from collections import abc\n",
    "import numbers\n",
    "import html\n",
    "\n",
    "@singledispatch\n",
    "def example_func(object):\n",
    "    print(\"any: \", object)\n",
    "    \n",
    "@example_func.register(str)\n",
    "def _(text):\n",
    "    print(\"str: \", text)\n",
    "    \n",
    "@example_func.register(int)\n",
    "def _(number):\n",
    "    print(\"int: \", number)\n",
    "\n",
    "@example_func.register(tuple)\n",
    "@example_func.register(list)\n",
    "def _(number):\n",
    "    print(\"sequence \", number)\n",
    "\n",
    "\n",
    "example_func(123)\n",
    "example_func('123')\n",
    "example_func([123,543])    \n",
    "example_func((123,543))\n",
    "example_func(23.4)"
   ]
  },
  {
   "cell_type": "markdown",
   "metadata": {},
   "source": [
    "### Parameterized clock decorator\n",
    "\n",
    "Notice the parenthesis after `@clock` below."
   ]
  },
  {
   "cell_type": "code",
   "execution_count": 2,
   "metadata": {},
   "outputs": [
    {
     "name": "stdout",
     "output_type": "stream",
     "text": [
      "[0.12447476s] snooze(0.123) -> None\n",
      "[0.12471581s] snooze(0.123) -> None\n",
      "[0.12503409s] snooze(0.123) -> None\n",
      "\n",
      "With a custom argument\n",
      "\n",
      "snooze: 0.12709403038024902s\n",
      "snooze: 0.12314391136169434s\n",
      "snooze: 0.12816691398620605s\n"
     ]
    }
   ],
   "source": [
    "import time\n",
    "\n",
    "DEFAULT_FMT = '[{elapsed:0.8f}s] {name}({args}) -> {result}'\n",
    "\n",
    "def clock(fmt=DEFAULT_FMT):\n",
    "    def decorate(func):\n",
    "        def clocked(*_args):\n",
    "            t0 = time.time()\n",
    "            _result = func(*_args)\n",
    "            elapsed = time.time() - t0\n",
    "            name = func.__name__\n",
    "            args = ', '.join(repr(arg) for arg in _args)\n",
    "            result = repr(_result)\n",
    "            print(fmt.format(**locals()))\n",
    "            return _result\n",
    "        return clocked\n",
    "    return decorate\n",
    "\n",
    "@clock()\n",
    "def snooze(seconds):\n",
    "    time.sleep(seconds)\n",
    "\n",
    "for _ in range(3):\n",
    "    snooze(.123)\n",
    "\n",
    "print(\"\\nWith a custom argument\\n\")\n",
    "\n",
    "@clock('{name}: {elapsed}s')\n",
    "def snooze(seconds):\n",
    "    time.sleep(seconds)\n",
    "\n",
    "for _ in range(3):\n",
    "    snooze(.123)\n",
    "\n"
   ]
  },
  {
   "cell_type": "markdown",
   "metadata": {},
   "source": [
    "### Parameterized clock decorator with `partial` for removing `()`\n",
    "\n",
    "Notice the parenthesis after `@clock` is GONE below."
   ]
  },
  {
   "cell_type": "code",
   "execution_count": 3,
   "metadata": {},
   "outputs": [
    {
     "name": "stdout",
     "output_type": "stream",
     "text": [
      "[0.12613082s] snooze(0.123) -> None\n",
      "[0.12330794s] snooze(0.123) -> None\n",
      "[0.12451982s] snooze(0.123) -> None\n",
      "\n",
      "With a custom argument\n",
      "\n",
      "snooze: 0.12448596954345703s\n",
      "snooze: 0.12357401847839355s\n",
      "snooze: 0.12677001953125s\n"
     ]
    }
   ],
   "source": [
    "import time\n",
    "from functools import wraps, partial\n",
    "DEFAULT_FMT = '[{elapsed:0.8f}s] {name}({args}) -> {result}'\n",
    "\n",
    "def clock(func=None, fmt=DEFAULT_FMT):\n",
    "    if not func:\n",
    "        return partial(clock, fmt=fmt)\n",
    "    \n",
    "    @wraps(func)\n",
    "    def clocked(*_args):\n",
    "        t0 = time.time()\n",
    "        _result = func(*_args)\n",
    "        elapsed = time.time() - t0\n",
    "        name = func.__name__\n",
    "        args = ', '.join(repr(arg) for arg in _args)\n",
    "        result = repr(_result)\n",
    "        print(fmt.format(**locals()))\n",
    "        return _result\n",
    "    return clocked\n",
    "\n",
    "@clock\n",
    "def snooze(seconds):\n",
    "    time.sleep(seconds)\n",
    "\n",
    "for _ in range(3):\n",
    "    snooze(0.123)\n",
    "\n",
    "print(\"\\nWith a custom argument\\n\")\n",
    "\n",
    "@clock(fmt='{name}: {elapsed}s')\n",
    "def snooze(seconds):\n",
    "    time.sleep(seconds)\n",
    "\n",
    "for _ in range(3):\n",
    "    snooze(.123)"
   ]
  },
  {
   "cell_type": "markdown",
   "metadata": {},
   "source": [
    "### Logger decorator"
   ]
  },
  {
   "cell_type": "code",
   "execution_count": 1,
   "metadata": {},
   "outputs": [
    {
     "data": {
      "text/plain": [
       "(36, 15)"
      ]
     },
     "execution_count": 1,
     "metadata": {},
     "output_type": "execute_result"
    }
   ],
   "source": [
    "from functools import wraps\n",
    "import logging\n",
    "\n",
    "logging.basicConfig(\n",
    "    filename='code/example.log',\n",
    "    format='%(asctime)s - %(name)s - %(levelname)s - %(message)s',\n",
    "    level=logging.DEBUG\n",
    ")\n",
    "\n",
    "def logged(level, name=None, message=None):\n",
    "    def decorate(func):\n",
    "        logname = name if name else func.__module__\n",
    "        logger = logging.getLogger(logname)\n",
    "        logmsg = message if message else func.__name__\n",
    "        \n",
    "        @wraps(func)\n",
    "        def wrapper(*args, **kwargs):\n",
    "            logger.log(level, logmsg)\n",
    "            return func(*args, **kwargs)\n",
    "        return wrapper\n",
    "    return decorate\n",
    "\n",
    "@logged(logging.DEBUG)\n",
    "def add(x, y):\n",
    "    return x + y\n",
    "\n",
    "@logged(logging.CRITICAL, 'example')\n",
    "def mul(x, y):\n",
    "    return x * y\n",
    "\n",
    "add(2, 34), mul(5,3)"
   ]
  },
  {
   "cell_type": "markdown",
   "metadata": {},
   "source": [
    "### Enforcing type checking on a function using a decorator"
   ]
  },
  {
   "cell_type": "code",
   "execution_count": 9,
   "metadata": {},
   "outputs": [
    {
     "name": "stdout",
     "output_type": "stream",
     "text": [
      "1 2 3\n"
     ]
    },
    {
     "ename": "TypeError",
     "evalue": "Argument x must be <class 'int'>",
     "output_type": "error",
     "traceback": [
      "\u001b[0;31m---------------------------------------------------------------------------\u001b[0m",
      "\u001b[0;31mTypeError\u001b[0m                                 Traceback (most recent call last)",
      "\u001b[0;32m<ipython-input-9-c3a04188cd07>\u001b[0m in \u001b[0;36m<module>\u001b[0;34m()\u001b[0m\n\u001b[1;32m     37\u001b[0m \u001b[0;34m\u001b[0m\u001b[0m\n\u001b[1;32m     38\u001b[0m \u001b[0mspam\u001b[0m\u001b[0;34m(\u001b[0m\u001b[0;36m1\u001b[0m\u001b[0;34m,\u001b[0m\u001b[0;36m2\u001b[0m\u001b[0;34m,\u001b[0m\u001b[0;36m3\u001b[0m\u001b[0;34m)\u001b[0m\u001b[0;34m\u001b[0m\u001b[0m\n\u001b[0;32m---> 39\u001b[0;31m \u001b[0mspam\u001b[0m\u001b[0;34m(\u001b[0m\u001b[0;34m'1'\u001b[0m\u001b[0;34m,\u001b[0m\u001b[0;36m2\u001b[0m\u001b[0;34m,\u001b[0m\u001b[0;36m3\u001b[0m\u001b[0;34m)\u001b[0m\u001b[0;34m\u001b[0m\u001b[0m\n\u001b[0m\u001b[1;32m     40\u001b[0m \u001b[0mspam\u001b[0m\u001b[0;34m(\u001b[0m\u001b[0;36m1\u001b[0m\u001b[0;34m,\u001b[0m\u001b[0;34m'23'\u001b[0m\u001b[0;34m,\u001b[0m\u001b[0;36m3\u001b[0m\u001b[0;34m)\u001b[0m\u001b[0;34m\u001b[0m\u001b[0m\n\u001b[1;32m     41\u001b[0m \u001b[0mspam\u001b[0m\u001b[0;34m(\u001b[0m\u001b[0;36m1\u001b[0m\u001b[0;34m,\u001b[0m\u001b[0;34m'23'\u001b[0m\u001b[0;34m,\u001b[0m\u001b[0;34m'23'\u001b[0m\u001b[0;34m)\u001b[0m\u001b[0;34m\u001b[0m\u001b[0m\n",
      "\u001b[0;32m<ipython-input-9-c3a04188cd07>\u001b[0m in \u001b[0;36mwrapper\u001b[0;34m(*args, **kwargs)\u001b[0m\n\u001b[1;32m     21\u001b[0m                             'Argument {} must be {}'.format(\n\u001b[1;32m     22\u001b[0m                                 \u001b[0mname\u001b[0m\u001b[0;34m,\u001b[0m\u001b[0;34m\u001b[0m\u001b[0m\n\u001b[0;32m---> 23\u001b[0;31m                                 \u001b[0mbound_types\u001b[0m\u001b[0;34m[\u001b[0m\u001b[0mname\u001b[0m\u001b[0;34m]\u001b[0m\u001b[0;34m\u001b[0m\u001b[0m\n\u001b[0m\u001b[1;32m     24\u001b[0m                             )\n\u001b[1;32m     25\u001b[0m                         )\n",
      "\u001b[0;31mTypeError\u001b[0m: Argument x must be <class 'int'>"
     ]
    }
   ],
   "source": [
    "from inspect import signature\n",
    "\n",
    "def typeassert(*ty_args, **ty_kwargs):\n",
    "    def decorate(func):\n",
    "        # If in optimized mode, disable type checking\n",
    "        if not __debug__:\n",
    "            return func\n",
    "        \n",
    "        # Map function argument names to supplied types\n",
    "        sig = signature(func)\n",
    "        bound_types = sig.bind_partial(*ty_args, **ty_kwargs).arguments\n",
    "        \n",
    "        @wraps(func)\n",
    "        def wrapper(*args, **kwargs):\n",
    "            bound_values = sig.bind(*args, **kwargs)\n",
    "            # Enforce type assertion across supplied arguments\n",
    "            for name, value in bound_values.arguments.items():\n",
    "                if name in bound_types:\n",
    "                    if not isinstance(value, bound_types[name]):\n",
    "                        raise TypeError(\n",
    "                            'Argument {} must be {}'.format(\n",
    "                                name, \n",
    "                                bound_types[name]\n",
    "                            )\n",
    "                        )\n",
    "            return func(*args, **kwargs)\n",
    "        return wrapper\n",
    "    return decorate\n",
    "\n",
    "\n",
    "@typeassert(int, z=int)\n",
    "def spam(x,y,z=42):\n",
    "    print(x,y,z)\n",
    "    \n",
    "spam(1,2,3)\n",
    "spam('1',2,3)\n",
    "spam(1,'23',3)\n",
    "spam(1,'23','23')"
   ]
  },
  {
   "cell_type": "markdown",
   "metadata": {},
   "source": [
    "### Anatomy of a function wrapper with a class v.1\n",
    "\n",
    "```python\n",
    "class function_wrapper(object):\n",
    "    def __init__(self, wrapped):\n",
    "        self.wrapped = wrapped\n",
    "    def __call__(self, *args, **kwargs):\n",
    "        return self.wrapped(*args, **kwargs)\n",
    "\n",
    "@function_wrapper\n",
    "def function():\n",
    "    pass\n",
    "```"
   ]
  },
  {
   "cell_type": "code",
   "execution_count": 6,
   "metadata": {},
   "outputs": [
    {
     "name": "stdout",
     "output_type": "stream",
     "text": [
      "wrapper\n",
      "actual func\n"
     ]
    }
   ],
   "source": [
    "import functools\n",
    "\n",
    "class function_wrapper(object):\n",
    "    def __init__(self, wrapped):\n",
    "        self.wrapped = wrapped\n",
    "        functools.update_wrapper(self, wrapped)\n",
    "        \n",
    "    def __call__(self, *args, **kwargs):\n",
    "        print(\"wrapper\")\n",
    "        return self.wrapped(*args, **kwargs)\n",
    "\n",
    "@function_wrapper\n",
    "def function():\n",
    "    print(\"actual func\")\n",
    "    \n",
    "function()"
   ]
  },
  {
   "cell_type": "markdown",
   "metadata": {},
   "source": [
    "### Anatomy of a function wrapper with a class v.2"
   ]
  },
  {
   "cell_type": "code",
   "execution_count": 18,
   "metadata": {},
   "outputs": [
    {
     "name": "stdout",
     "output_type": "stream",
     "text": [
      "wrapper\n",
      "actual func\n"
     ]
    },
    {
     "data": {
      "text/plain": [
       "1"
      ]
     },
     "execution_count": 18,
     "metadata": {},
     "output_type": "execute_result"
    }
   ],
   "source": [
    "import types\n",
    "from functools import wraps\n",
    "\n",
    "class function_wrapper:\n",
    "    ncalls = 0\n",
    "    def __init__(self, wrapped):\n",
    "        wraps(wrapped)(self)\n",
    "#         self.ncalls = 0\n",
    "        \n",
    "    def __call__(self, *args, **kwargs):\n",
    "        function_wrapper.ncalls += 1\n",
    "        print(\"wrapper\")\n",
    "#         self.ncalls += 1\n",
    "#         ncalls += 1\n",
    "        return self.__wrapped__(*args, **kwargs)\n",
    "    \n",
    "    def __get__(self, instance, cls):\n",
    "        '''\n",
    "        This method is necessary when using a class decorator\n",
    "        to an instance method.\n",
    "        \n",
    "        Maybe it is just better to use a closure decorator.\n",
    "        '''\n",
    "        if not instance:\n",
    "            return self\n",
    "        else:\n",
    "            return types.MethodType(self, instance)\n",
    "\n",
    "@function_wrapper\n",
    "def function():\n",
    "    print(\"actual func\")\n",
    "    \n",
    "function()\n",
    "function.ncalls"
   ]
  },
  {
   "cell_type": "markdown",
   "metadata": {},
   "source": [
    "### Applying decorators to Class and "
   ]
  },
  {
   "cell_type": "markdown",
   "metadata": {},
   "source": [
    "### Proper decorators"
   ]
  },
  {
   "cell_type": "code",
   "execution_count": 32,
   "metadata": {},
   "outputs": [],
   "source": [
    "import functools\n",
    "\n",
    "'''\n",
    "Factory for creating decorators\n",
    "'''\n",
    "class object_proxy(object): \n",
    "\n",
    "    def __init__(self, wrapped):\n",
    "        self.wrapped = wrapped\n",
    "        try:\n",
    "            self.__name__= wrapped.__name__\n",
    "        except AttributeError:\n",
    "            pass \n",
    "\n",
    "    @property\n",
    "    def __class__(self):\n",
    "        return self.wrapped.__class__  \n",
    "\n",
    "    def __getattr__(self, name):\n",
    "        return getattr(self.wrapped, name)\n",
    "    \n",
    "\n",
    "class bound_function_wrapper(object_proxy): \n",
    "\n",
    "    def __init__(self, wrapped, instance, wrapper):\n",
    "        super(bound_function_wrapper, self).__init__(wrapped)\n",
    "        self.instance = instance\n",
    "        self.wrapper = wrapper \n",
    "\n",
    "    def __call__(self, *args, **kwargs):\n",
    "        if self.instance is None:\n",
    "            instance, args = args[0], args[1:]\n",
    "            wrapped = functools.partial(self.wrapped, instance)\n",
    "            return self.wrapper(wrapped, instance, args, kwargs) \n",
    "        return self.wrapper(self.wrapped, self.instance, args, kwargs)\n",
    "\n",
    "    \n",
    "class function_wrapper(object_proxy): \n",
    "\n",
    "    def __init__(self, wrapped, wrapper):\n",
    "        super(function_wrapper, self).__init__(wrapped)\n",
    "        self.wrapper = wrapper \n",
    "\n",
    "    def __get__(self, instance, owner):\n",
    "        '''\n",
    "         If the wrapper is applied to a method of a class, \n",
    "         the __get__() method is called when the attribute is \n",
    "         accessed, which returns a new bound wrapper and the \n",
    "         __call__() method of that is invoked instead when a \n",
    "         call is made.\n",
    "        '''\n",
    "        wrapped = self.wrapped.__get__(instance, owner)\n",
    "        return bound_function_wrapper(wrapped, instance, self.wrapper) \n",
    "\n",
    "    def __call__(self, *args, **kwargs):\n",
    "        return self.wrapper(self.wrapped, None, args, kwargs)\n",
    "\n",
    "\n",
    "def decorator(wrapper):\n",
    "    '''\n",
    "    A decorator for creating decorators\n",
    "    '''\n",
    "    @functools.wraps(wrapper)\n",
    "    def _decorator(wrapped):\n",
    "        print(\"_decorator: wrapped: \", wrapped.__name__)\n",
    "        print(\"_decorator: wrapper: \", wrapper.__name__)\n",
    "        return function_wrapper(wrapped, wrapper)\n",
    "    return _decorator"
   ]
  },
  {
   "cell_type": "code",
   "execution_count": 33,
   "metadata": {},
   "outputs": [
    {
     "name": "stdout",
     "output_type": "stream",
     "text": [
      "_decorator: wrapped:  function\n",
      "_decorator: wrapper:  my_function_wrapper\n",
      "INSTANCE None\n",
      "ARGS (3, 24)\n"
     ]
    }
   ],
   "source": [
    "@decorator\n",
    "def my_function_wrapper(wrapped, instance, args, kwargs):\n",
    "    print('INSTANCE', instance)\n",
    "    print('ARGS', args)\n",
    "    return wrapped(*args, **kwargs) \n",
    "\n",
    "@my_function_wrapper\n",
    "def function(a, b):\n",
    "    pass \n",
    "\n",
    "function(3,24)\n",
    "\n",
    "# class Class(object):\n",
    "#     @my_function_wrapper\n",
    "#     def function_im(self, a, b):\n",
    "#         pass \n",
    "\n",
    "# c = Class()  # __get__ is called\n",
    "\n",
    "# c.function_im(1,2)"
   ]
  },
  {
   "cell_type": "code",
   "execution_count": 34,
   "metadata": {},
   "outputs": [
    {
     "name": "stdout",
     "output_type": "stream",
     "text": [
      "_decorator: wrapped:  function_im\n",
      "_decorator: wrapper:  my_function_wrapper\n",
      "INSTANCE <__main__.Class object at 0x106c92e10>\n",
      "ARGS (1, 2)\n"
     ]
    }
   ],
   "source": [
    "class Class(object):\n",
    "    @my_function_wrapper\n",
    "    def function_im(self, a, b):\n",
    "        pass \n",
    "\n",
    "c = Class()  # __get__ is called\n",
    "Class.function_im(c, 1, 2)\n",
    "\n",
    "# c.function_im(1,2)"
   ]
  },
  {
   "cell_type": "code",
   "execution_count": 35,
   "metadata": {},
   "outputs": [],
   "source": [
    "def decorator(wrapper):\n",
    "    @functools.wraps(wrapper)\n",
    "    def _decorator(wrapped):\n",
    "        return function_wrapper(wrapped, wrapper)\n",
    "    return _decorator\n",
    "\n",
    "def optional_arguments(wrapped=None, arg=1):\n",
    "    if wrapped is None:\n",
    "        return functools.partial(optional_arguments, arg=arg) \n",
    "\n",
    "    @decorator\n",
    "    def _wrapper(wrapped, instance, args, kwargs):\n",
    "        return wrapped(*args, **kwargs)\n",
    "\n",
    "    return _wrapper(wrapped) \n",
    "\n",
    "@optional_arguments(arg=2)\n",
    "def function1():\n",
    "    pass\n",
    "\n",
    "@optional_arguments\n",
    "def function2():\n",
    "    pass \n",
    "\n",
    "function1()\n",
    "function2()"
   ]
  },
  {
   "cell_type": "code",
   "execution_count": 36,
   "metadata": {},
   "outputs": [
    {
     "name": "stdout",
     "output_type": "stream",
     "text": [
      "The Zen of Python, by Tim Peters\n",
      "\n",
      "Beautiful is better than ugly.\n",
      "Explicit is better than implicit.\n",
      "Simple is better than complex.\n",
      "Complex is better than complicated.\n",
      "Flat is better than nested.\n",
      "Sparse is better than dense.\n",
      "Readability counts.\n",
      "Special cases aren't special enough to break the rules.\n",
      "Although practicality beats purity.\n",
      "Errors should never pass silently.\n",
      "Unless explicitly silenced.\n",
      "In the face of ambiguity, refuse the temptation to guess.\n",
      "There should be one-- and preferably only one --obvious way to do it.\n",
      "Although that way may not be obvious at first unless you're Dutch.\n",
      "Now is better than never.\n",
      "Although never is often better than *right* now.\n",
      "If the implementation is hard to explain, it's a bad idea.\n",
      "If the implementation is easy to explain, it may be a good idea.\n",
      "Namespaces are one honking great idea -- let's do more of those!\n"
     ]
    }
   ],
   "source": [
    "import this"
   ]
  },
  {
   "cell_type": "code",
   "execution_count": 39,
   "metadata": {},
   "outputs": [
    {
     "name": "stdout",
     "output_type": "stream",
     "text": [
      "4 2\n"
     ]
    }
   ],
   "source": [
    "x = 4\n",
    "y = 2\n",
    "if x == 4: print(x, y); x, y = y, x"
   ]
  },
  {
   "cell_type": "code",
   "execution_count": 42,
   "metadata": {},
   "outputs": [
    {
     "data": {
      "text/plain": [
       "(25, 4)"
      ]
     },
     "execution_count": 42,
     "metadata": {},
     "output_type": "execute_result"
    }
   ],
   "source": [
    "def powOfTwo(n: int = 2) -> int:\n",
    "    return n * n\n",
    "\n",
    "powOfTwo(5), powOfTwo()"
   ]
  },
  {
   "cell_type": "markdown",
   "metadata": {},
   "source": [
    "### Getter and Setter with `@property`"
   ]
  },
  {
   "cell_type": "code",
   "execution_count": 45,
   "metadata": {},
   "outputs": [
    {
     "name": "stdout",
     "output_type": "stream",
     "text": [
      "70\n",
      "68\n"
     ]
    }
   ],
   "source": [
    "class Person:\n",
    "    def __init__(self, age):\n",
    "        self.age = age\n",
    "        \n",
    "    @property\n",
    "    def value(self):\n",
    "        return 80 - self.age\n",
    "    \n",
    "    @value.setter\n",
    "    def value(self, age):\n",
    "        self.age = age\n",
    "        \n",
    "jack = Person(10)\n",
    "print(jack.value)\n",
    "jack.value = 12\n",
    "print(jack.value)"
   ]
  },
  {
   "cell_type": "code",
   "execution_count": 21,
   "metadata": {},
   "outputs": [
    {
     "ename": "AttributeError",
     "evalue": "'str' object has no attribute 'suffix'",
     "output_type": "error",
     "traceback": [
      "\u001b[0;31m---------------------------------------------------------------------------\u001b[0m",
      "\u001b[0;31mAttributeError\u001b[0m                            Traceback (most recent call last)",
      "\u001b[0;32m<ipython-input-21-6e590c9db7d1>\u001b[0m in \u001b[0;36m<module>\u001b[0;34m()\u001b[0m\n\u001b[0;32m----> 1\u001b[0;31m \u001b[0;34m'asdf'\u001b[0m\u001b[0;34m.\u001b[0m\u001b[0msuffix\u001b[0m\u001b[0;34m(\u001b[0m\u001b[0;36m1\u001b[0m\u001b[0;34m)\u001b[0m\u001b[0;34m\u001b[0m\u001b[0m\n\u001b[0m",
      "\u001b[0;31mAttributeError\u001b[0m: 'str' object has no attribute 'suffix'"
     ]
    }
   ],
   "source": [
    "'asdf'.suffix(1)"
   ]
  },
  {
   "cell_type": "code",
   "execution_count": 16,
   "metadata": {},
   "outputs": [
    {
     "data": {
      "text/plain": [
       "'2018/July/06 Friday 12:38:47'"
      ]
     },
     "execution_count": 16,
     "metadata": {},
     "output_type": "execute_result"
    }
   ],
   "source": [
    "class TimemachineServerMonitor:\n",
    "\n",
    "    def __init__(self):\n",
    "        pass\n",
    "\n",
    "    @property\n",
    "    def timestamp(self):\n",
    "        return format(datetime.now(), '%Y/%B/%d %A %H:%M:%S')\n",
    "    \n",
    "t = TimemachineServerMonitor()\n",
    "t.timestamp"
   ]
  },
  {
   "cell_type": "markdown",
   "metadata": {},
   "source": [
    "### Getter & Setter using Descriptor"
   ]
  },
  {
   "cell_type": "code",
   "execution_count": 30,
   "metadata": {},
   "outputs": [
    {
     "name": "stdout",
     "output_type": "stream",
     "text": [
      "40\n",
      "0\n"
     ]
    }
   ],
   "source": [
    "'''\n",
    "Getter & Setter using Descriptor. With WeakKeyDictionary, it's free from memory leak\n",
    "'''\n",
    "\n",
    "from weakref import WeakKeyDictionary\n",
    "\n",
    "\n",
    "class Grade(object):\n",
    "    def __init__(self):\n",
    "        self._value = WeakKeyDictionary()\n",
    "        \n",
    "    def __get__(self, instance, instance_type):\n",
    "        if not instance: return self\n",
    "        return self._value.get(instance, 0)\n",
    "    \n",
    "    def __set__(self,instance, value):\n",
    "        if not (0 <= value <= 100):\n",
    "            raise ValueError\n",
    "        self._value[instance] = value\n",
    "    \n",
    "class Exam:\n",
    "    math_grade = Grade()\n",
    "    writing_grade = Grade()\n",
    "    science_grade = Grade()\n",
    "    \n",
    "exam = Exam()\n",
    "\n",
    "exam.writing_grade = 40; \n",
    "print(exam.writing_grade)\n",
    "\n",
    "exam2 = Exam()\n",
    "print(exam2.writing_grade)"
   ]
  },
  {
   "cell_type": "code",
   "execution_count": 31,
   "metadata": {},
   "outputs": [],
   "source": [
    "seyoung = Exam()"
   ]
  },
  {
   "cell_type": "code",
   "execution_count": 32,
   "metadata": {},
   "outputs": [
    {
     "data": {
      "text/plain": [
       "100"
      ]
     },
     "execution_count": 32,
     "metadata": {},
     "output_type": "execute_result"
    }
   ],
   "source": [
    "seyoung.math_grade = 100; seyoung.math_grade"
   ]
  },
  {
   "cell_type": "code",
   "execution_count": 33,
   "metadata": {},
   "outputs": [
    {
     "data": {
      "text/plain": [
       "0"
      ]
     },
     "execution_count": 33,
     "metadata": {},
     "output_type": "execute_result"
    }
   ],
   "source": [
    "fabio = Exam(); fabio.math_grade"
   ]
  },
  {
   "cell_type": "code",
   "execution_count": 34,
   "metadata": {},
   "outputs": [],
   "source": [
    "my_grade = Grade()"
   ]
  },
  {
   "cell_type": "markdown",
   "metadata": {},
   "source": [
    "## Datetime"
   ]
  },
  {
   "cell_type": "code",
   "execution_count": 11,
   "metadata": {},
   "outputs": [
    {
     "data": {
      "text/plain": [
       "'2018/July/06 Friday 12:34'"
      ]
     },
     "execution_count": 11,
     "metadata": {},
     "output_type": "execute_result"
    }
   ],
   "source": [
    "from datetime import datetime\n",
    "format(datetime.now(), '%Y/%B/%d %A %H:%M')"
   ]
  },
  {
   "cell_type": "code",
   "execution_count": null,
   "metadata": {},
   "outputs": [],
   "source": []
  }
 ],
 "metadata": {
  "kernelspec": {
   "display_name": "Python 3",
   "language": "python",
   "name": "python3"
  },
  "language_info": {
   "codemirror_mode": {
    "name": "ipython",
    "version": 3
   },
   "file_extension": ".py",
   "mimetype": "text/x-python",
   "name": "python",
   "nbconvert_exporter": "python",
   "pygments_lexer": "ipython3",
   "version": "3.6.6"
  }
 },
 "nbformat": 4,
 "nbformat_minor": 2
}
